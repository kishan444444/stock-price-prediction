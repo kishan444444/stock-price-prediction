{
 "cells": [
  {
   "cell_type": "code",
   "execution_count": 2,
   "id": "bdbe91a3-c138-4e2a-a8d6-c0aaaef6f2ec",
   "metadata": {
    "tags": []
   },
   "outputs": [],
   "source": [
    "import pandas as pd\n",
    "import numpy as np\n",
    "import seaborn as sns"
   ]
  },
  {
   "cell_type": "code",
   "execution_count": 3,
   "id": "62d47e40-418e-4550-a279-02ee4724a760",
   "metadata": {
    "tags": []
   },
   "outputs": [],
   "source": [
    "data1=pd.read_csv(r\"C:\\Users\\kisha\\Desktop\\stockpriceprediction\\notebooks\\data\\stock prices data.csv\")"
   ]
  },
  {
   "cell_type": "code",
   "execution_count": 4,
   "id": "413b6c49-25fb-41ad-8c29-f3020b99dcce",
   "metadata": {
    "tags": []
   },
   "outputs": [
    {
     "data": {
      "text/html": [
       "<div>\n",
       "<style scoped>\n",
       "    .dataframe tbody tr th:only-of-type {\n",
       "        vertical-align: middle;\n",
       "    }\n",
       "\n",
       "    .dataframe tbody tr th {\n",
       "        vertical-align: top;\n",
       "    }\n",
       "\n",
       "    .dataframe thead th {\n",
       "        text-align: right;\n",
       "    }\n",
       "</style>\n",
       "<table border=\"1\" class=\"dataframe\">\n",
       "  <thead>\n",
       "    <tr style=\"text-align: right;\">\n",
       "      <th></th>\n",
       "      <th>Date</th>\n",
       "      <th>Open</th>\n",
       "      <th>High</th>\n",
       "      <th>Low</th>\n",
       "      <th>Close</th>\n",
       "      <th>Adj Close</th>\n",
       "      <th>Volume</th>\n",
       "    </tr>\n",
       "  </thead>\n",
       "  <tbody>\n",
       "    <tr>\n",
       "      <th>0</th>\n",
       "      <td>1970-01-02</td>\n",
       "      <td>11.099500</td>\n",
       "      <td>11.204875</td>\n",
       "      <td>10.994125</td>\n",
       "      <td>11.169750</td>\n",
       "      <td>0.101497</td>\n",
       "      <td>24400</td>\n",
       "    </tr>\n",
       "    <tr>\n",
       "      <th>1</th>\n",
       "      <td>1970-01-05</td>\n",
       "      <td>11.169750</td>\n",
       "      <td>11.345375</td>\n",
       "      <td>11.169750</td>\n",
       "      <td>11.345375</td>\n",
       "      <td>0.103093</td>\n",
       "      <td>13700</td>\n",
       "    </tr>\n",
       "    <tr>\n",
       "      <th>2</th>\n",
       "      <td>1970-01-06</td>\n",
       "      <td>11.310250</td>\n",
       "      <td>11.310250</td>\n",
       "      <td>11.029250</td>\n",
       "      <td>11.134625</td>\n",
       "      <td>0.101178</td>\n",
       "      <td>15100</td>\n",
       "    </tr>\n",
       "    <tr>\n",
       "      <th>3</th>\n",
       "      <td>1970-01-07</td>\n",
       "      <td>11.099500</td>\n",
       "      <td>11.099500</td>\n",
       "      <td>10.713125</td>\n",
       "      <td>10.959000</td>\n",
       "      <td>0.099582</td>\n",
       "      <td>10600</td>\n",
       "    </tr>\n",
       "    <tr>\n",
       "      <th>4</th>\n",
       "      <td>1970-01-08</td>\n",
       "      <td>10.959000</td>\n",
       "      <td>10.959000</td>\n",
       "      <td>10.853625</td>\n",
       "      <td>10.959000</td>\n",
       "      <td>0.099582</td>\n",
       "      <td>18000</td>\n",
       "    </tr>\n",
       "    <tr>\n",
       "      <th>5</th>\n",
       "      <td>1970-01-09</td>\n",
       "      <td>10.959000</td>\n",
       "      <td>10.959000</td>\n",
       "      <td>10.888750</td>\n",
       "      <td>10.888750</td>\n",
       "      <td>0.098944</td>\n",
       "      <td>7100</td>\n",
       "    </tr>\n",
       "    <tr>\n",
       "      <th>6</th>\n",
       "      <td>1970-01-12</td>\n",
       "      <td>11.029250</td>\n",
       "      <td>11.134625</td>\n",
       "      <td>11.029250</td>\n",
       "      <td>11.134625</td>\n",
       "      <td>0.101178</td>\n",
       "      <td>13000</td>\n",
       "    </tr>\n",
       "    <tr>\n",
       "      <th>7</th>\n",
       "      <td>1970-01-13</td>\n",
       "      <td>11.134625</td>\n",
       "      <td>11.169750</td>\n",
       "      <td>11.064375</td>\n",
       "      <td>11.099500</td>\n",
       "      <td>0.100859</td>\n",
       "      <td>18000</td>\n",
       "    </tr>\n",
       "    <tr>\n",
       "      <th>8</th>\n",
       "      <td>1970-01-14</td>\n",
       "      <td>11.099500</td>\n",
       "      <td>11.099500</td>\n",
       "      <td>10.959000</td>\n",
       "      <td>10.959000</td>\n",
       "      <td>0.099582</td>\n",
       "      <td>24400</td>\n",
       "    </tr>\n",
       "    <tr>\n",
       "      <th>9</th>\n",
       "      <td>1970-01-15</td>\n",
       "      <td>10.959000</td>\n",
       "      <td>11.099500</td>\n",
       "      <td>10.818500</td>\n",
       "      <td>10.818500</td>\n",
       "      <td>0.098305</td>\n",
       "      <td>10900</td>\n",
       "    </tr>\n",
       "  </tbody>\n",
       "</table>\n",
       "</div>"
      ],
      "text/plain": [
       "         Date       Open       High        Low      Close  Adj Close  Volume\n",
       "0  1970-01-02  11.099500  11.204875  10.994125  11.169750   0.101497   24400\n",
       "1  1970-01-05  11.169750  11.345375  11.169750  11.345375   0.103093   13700\n",
       "2  1970-01-06  11.310250  11.310250  11.029250  11.134625   0.101178   15100\n",
       "3  1970-01-07  11.099500  11.099500  10.713125  10.959000   0.099582   10600\n",
       "4  1970-01-08  10.959000  10.959000  10.853625  10.959000   0.099582   18000\n",
       "5  1970-01-09  10.959000  10.959000  10.888750  10.888750   0.098944    7100\n",
       "6  1970-01-12  11.029250  11.134625  11.029250  11.134625   0.101178   13000\n",
       "7  1970-01-13  11.134625  11.169750  11.064375  11.099500   0.100859   18000\n",
       "8  1970-01-14  11.099500  11.099500  10.959000  10.959000   0.099582   24400\n",
       "9  1970-01-15  10.959000  11.099500  10.818500  10.818500   0.098305   10900"
      ]
     },
     "execution_count": 4,
     "metadata": {},
     "output_type": "execute_result"
    }
   ],
   "source": [
    "data1.head(10)"
   ]
  },
  {
   "cell_type": "code",
   "execution_count": 5,
   "id": "1c77a722-e1e5-43ae-9092-37aaa074ba18",
   "metadata": {
    "tags": []
   },
   "outputs": [
    {
     "data": {
      "text/plain": [
       "Date         0\n",
       "Open         0\n",
       "High         0\n",
       "Low          0\n",
       "Close        0\n",
       "Adj Close    0\n",
       "Volume       0\n",
       "dtype: int64"
      ]
     },
     "execution_count": 5,
     "metadata": {},
     "output_type": "execute_result"
    }
   ],
   "source": [
    "data1.isnull().sum()"
   ]
  },
  {
   "cell_type": "code",
   "execution_count": 6,
   "id": "f6073ed1-6876-46ea-af60-cf32ad74db77",
   "metadata": {},
   "outputs": [
    {
     "data": {
      "text/plain": [
       "0"
      ]
     },
     "execution_count": 6,
     "metadata": {},
     "output_type": "execute_result"
    }
   ],
   "source": [
    "data1.duplicated().sum()"
   ]
  },
  {
   "cell_type": "code",
   "execution_count": 7,
   "id": "b3b71186-e3af-4aea-bb66-d4b432e1ace0",
   "metadata": {
    "tags": []
   },
   "outputs": [],
   "source": [
    "data=data1.drop(\"Date\",axis=1)"
   ]
  },
  {
   "cell_type": "code",
   "execution_count": 8,
   "id": "cf02a705-9d95-4ec2-968c-68c99b3522d1",
   "metadata": {
    "tags": []
   },
   "outputs": [],
   "source": [
    "X=data.drop(\"Close\",axis=1)"
   ]
  },
  {
   "cell_type": "code",
   "execution_count": 9,
   "id": "7c6292e7-eba7-46bd-8020-001d574784ea",
   "metadata": {
    "tags": []
   },
   "outputs": [],
   "source": [
    "y=data[\"Close\"]"
   ]
  },
  {
   "cell_type": "code",
   "execution_count": 10,
   "id": "21538937-5676-48a4-a67a-d2ca7b7db603",
   "metadata": {
    "tags": []
   },
   "outputs": [
    {
     "data": {
      "text/plain": [
       "Open         float64\n",
       "High         float64\n",
       "Low          float64\n",
       "Close        float64\n",
       "Adj Close    float64\n",
       "Volume         int64\n",
       "dtype: object"
      ]
     },
     "execution_count": 10,
     "metadata": {},
     "output_type": "execute_result"
    }
   ],
   "source": [
    "data.dtypes"
   ]
  },
  {
   "cell_type": "code",
   "execution_count": 11,
   "id": "97d2b013-5f66-478d-b553-c315ab5189ec",
   "metadata": {
    "tags": []
   },
   "outputs": [],
   "source": [
    "import pandas as pd\n",
    "import numpy as np\n",
    "\n",
    "# Sample DataFrame\n",
    "\n",
    "data = pd.DataFrame(data)\n",
    "\n",
    "# Calculate IQR\n",
    "Q1 = data['Volume'].quantile(0.25)\n",
    "Q3 = data['Volume'].quantile(0.75)\n",
    "IQR = Q3 - Q1\n",
    "\n",
    "# Define outlier bounds\n",
    "lower_bound = Q1 - 1.5 * IQR\n",
    "upper_bound = Q3 + 1.5 * IQR\n",
    "\n",
    "# Identify outliers\n",
    "outliers = data[(data['Volume'] < lower_bound) | (data['Volume'] > upper_bound)]\n",
    "\n",
    "# Calculate the mean of non-outliers\n",
    "mean_value = data[(data['Volume'] >= lower_bound) & (data['Volume'] <= upper_bound)]['Volume'].mean()\n",
    "\n",
    "# Replace outliers with the mean value\n",
    "data['Volume'] = data['Volume'].apply(lambda x: mean_value if (x < lower_bound or x > upper_bound) else x)\n",
    "\n"
   ]
  },
  {
   "cell_type": "code",
   "execution_count": 12,
   "id": "430c934b-a793-4158-b50d-d8fba8c6adb1",
   "metadata": {
    "tags": []
   },
   "outputs": [
    {
     "data": {
      "text/plain": [
       "Open         float64\n",
       "High         float64\n",
       "Low          float64\n",
       "Close        float64\n",
       "Adj Close    float64\n",
       "Volume       float64\n",
       "dtype: object"
      ]
     },
     "execution_count": 12,
     "metadata": {},
     "output_type": "execute_result"
    }
   ],
   "source": [
    "data.dtypes"
   ]
  },
  {
   "cell_type": "code",
   "execution_count": 13,
   "id": "f4bd9f87-85a8-48d4-9a9d-adf583094a52",
   "metadata": {
    "tags": []
   },
   "outputs": [
    {
     "data": {
      "text/plain": [
       "0        11.169750\n",
       "1        11.345375\n",
       "2        11.134625\n",
       "3        10.959000\n",
       "4        10.959000\n",
       "           ...    \n",
       "12671    15.890000\n",
       "12672    16.299999\n",
       "12673    16.230000\n",
       "12674    15.450000\n",
       "12675    14.120000\n",
       "Name: Close, Length: 12676, dtype: float64"
      ]
     },
     "execution_count": 13,
     "metadata": {},
     "output_type": "execute_result"
    }
   ],
   "source": [
    "y"
   ]
  },
  {
   "cell_type": "code",
   "execution_count": 14,
   "id": "47885119-c61d-4bec-b40c-56ae102f90b3",
   "metadata": {
    "tags": []
   },
   "outputs": [],
   "source": [
    "from sklearn.preprocessing import MinMaxScaler\n",
    "scaler=MinMaxScaler(feature_range=(0,1))\n"
   ]
  },
  {
   "cell_type": "code",
   "execution_count": 15,
   "id": "321d1b35-7221-40bf-8692-f7f8327b200e",
   "metadata": {
    "tags": []
   },
   "outputs": [],
   "source": [
    "df1=scaler.fit_transform(np.array(y).reshape(-1,1))"
   ]
  },
  {
   "cell_type": "code",
   "execution_count": 16,
   "id": "5f612082-21e0-4fad-8d87-6482fff42148",
   "metadata": {
    "tags": []
   },
   "outputs": [
    {
     "name": "stdout",
     "output_type": "stream",
     "text": [
      "[[0.17707211]\n",
      " [0.18173469]\n",
      " [0.1761396 ]\n",
      " ...\n",
      " [0.31141433]\n",
      " [0.29070648]\n",
      " [0.25539693]]\n"
     ]
    }
   ],
   "source": [
    "print(df1)"
   ]
  },
  {
   "cell_type": "code",
   "execution_count": 17,
   "id": "e9cbf7e7-9849-4596-abaf-c1b0bd1ec9ef",
   "metadata": {
    "tags": []
   },
   "outputs": [],
   "source": [
    "##splitting dataset into train and test split\n",
    "training_size=int(len(df1)*0.65)\n",
    "test_size=len(df1)-training_size\n",
    "train_data,test_data=df1[0:training_size,:],df1[training_size:len(df1),:1]"
   ]
  },
  {
   "cell_type": "code",
   "execution_count": 18,
   "id": "0e25c008-4e2a-4fe3-8673-64cc12910311",
   "metadata": {
    "tags": []
   },
   "outputs": [
    {
     "data": {
      "text/plain": [
       "(8239, 4437)"
      ]
     },
     "execution_count": 18,
     "metadata": {},
     "output_type": "execute_result"
    }
   ],
   "source": [
    "training_size,test_size"
   ]
  },
  {
   "cell_type": "code",
   "execution_count": 19,
   "id": "6dca3129-08a7-4b9b-ae94-398224f1f165",
   "metadata": {
    "tags": []
   },
   "outputs": [],
   "source": [
    "import numpy\n",
    "# convert an array of values into a dataset matrix\n",
    "def create_dataset(dataset, time_step=1):\n",
    "\tdataX, dataY = [], []\n",
    "\tfor i in range(len(dataset)-time_step-1):\n",
    "\t\ta = dataset[i:(i+time_step), 0]   ###i=0, 0,1,2,3-----99   100 \n",
    "\t\tdataX.append(a)\n",
    "\t\tdataY.append(dataset[i + time_step, 0])\n",
    "\treturn numpy.array(dataX), numpy.array(dataY)"
   ]
  },
  {
   "cell_type": "code",
   "execution_count": 20,
   "id": "19ee8851-9098-468d-9d56-b6ab4c86c61c",
   "metadata": {
    "tags": []
   },
   "outputs": [],
   "source": [
    "time_step = 10\n",
    "X_train, y_train = create_dataset(train_data, time_step)\n",
    "X_test, ytest = create_dataset(test_data, time_step)"
   ]
  },
  {
   "cell_type": "code",
   "execution_count": 21,
   "id": "14c9c37f-3b45-4678-b653-7a8d2759455e",
   "metadata": {
    "tags": []
   },
   "outputs": [
    {
     "name": "stdout",
     "output_type": "stream",
     "text": [
      "[[0.17707211 0.18173469 0.1761396  ... 0.17520706 0.17147699 0.16774692]\n",
      " [0.18173469 0.1761396  0.17147699 ... 0.17147699 0.16774692 0.17147699]\n",
      " [0.1761396  0.17147699 0.17147699 ... 0.16774692 0.17147699 0.1658819 ]\n",
      " ...\n",
      " [0.08643142 0.11642117 0.10567859 ... 0.10567859 0.11843542 0.12492573]\n",
      " [0.11642117 0.10567859 0.10523098 ... 0.11843542 0.12492573 0.13902541]\n",
      " [0.10567859 0.10523098 0.08777424 ... 0.12492573 0.13902541 0.11776399]]\n"
     ]
    }
   ],
   "source": [
    "print(X_train)"
   ]
  },
  {
   "cell_type": "code",
   "execution_count": null,
   "id": "5aac527d-0581-49ed-9b4c-7cdfc880b086",
   "metadata": {},
   "outputs": [],
   "source": []
  },
  {
   "cell_type": "code",
   "execution_count": 22,
   "id": "0ecdb847-3ad7-41b3-8b09-0107f08a68cf",
   "metadata": {
    "tags": []
   },
   "outputs": [
    {
     "name": "stdout",
     "output_type": "stream",
     "text": [
      "(8228, 10)\n",
      "(8228,)\n"
     ]
    },
    {
     "data": {
      "text/plain": [
       "(None, None)"
      ]
     },
     "execution_count": 22,
     "metadata": {},
     "output_type": "execute_result"
    }
   ],
   "source": [
    "print(X_train.shape), print(y_train.shape)"
   ]
  },
  {
   "cell_type": "code",
   "execution_count": 23,
   "id": "acf2ffcb-a787-44cd-9f7a-bed8422234ce",
   "metadata": {
    "tags": []
   },
   "outputs": [
    {
     "name": "stdout",
     "output_type": "stream",
     "text": [
      "(4426, 10)\n",
      "(4426,)\n"
     ]
    },
    {
     "data": {
      "text/plain": [
       "(None, None)"
      ]
     },
     "execution_count": 23,
     "metadata": {},
     "output_type": "execute_result"
    }
   ],
   "source": [
    "print(X_test.shape), print(ytest.shape)"
   ]
  },
  {
   "cell_type": "code",
   "execution_count": 24,
   "id": "7be92485-90b8-41e0-8ea4-eb1d7e8246da",
   "metadata": {
    "tags": []
   },
   "outputs": [],
   "source": [
    "X_train =X_train.reshape(X_train.shape[0],X_train.shape[1] )\n",
    "X_test = X_test.reshape(X_test.shape[0],X_test.shape[1],)"
   ]
  },
  {
   "cell_type": "code",
   "execution_count": 25,
   "id": "f518c9f6-62c4-43aa-b049-7617e18eec0b",
   "metadata": {
    "tags": []
   },
   "outputs": [
    {
     "data": {
      "text/plain": [
       "array([[0.17707211, 0.18173469, 0.1761396 , ..., 0.17520706, 0.17147699,\n",
       "        0.16774692],\n",
       "       [0.18173469, 0.1761396 , 0.17147699, ..., 0.17147699, 0.16774692,\n",
       "        0.17147699],\n",
       "       [0.1761396 , 0.17147699, 0.17147699, ..., 0.16774692, 0.17147699,\n",
       "        0.1658819 ],\n",
       "       ...,\n",
       "       [0.08643142, 0.11642117, 0.10567859, ..., 0.10567859, 0.11843542,\n",
       "        0.12492573],\n",
       "       [0.11642117, 0.10567859, 0.10523098, ..., 0.11843542, 0.12492573,\n",
       "        0.13902541],\n",
       "       [0.10567859, 0.10523098, 0.08777424, ..., 0.12492573, 0.13902541,\n",
       "        0.11776399]])"
      ]
     },
     "execution_count": 25,
     "metadata": {},
     "output_type": "execute_result"
    }
   ],
   "source": [
    "X_train"
   ]
  },
  {
   "cell_type": "code",
   "execution_count": 26,
   "id": "91f43c86-caf6-4fe7-afac-3728ba84bca8",
   "metadata": {
    "tags": []
   },
   "outputs": [],
   "source": [
    "from sklearn.svm import SVR"
   ]
  },
  {
   "cell_type": "code",
   "execution_count": 27,
   "id": "fb8412d7-76c5-4f31-9544-76fc0b9957f1",
   "metadata": {
    "tags": []
   },
   "outputs": [],
   "source": [
    "model=SVR()"
   ]
  },
  {
   "cell_type": "code",
   "execution_count": 28,
   "id": "b6b1040b-1e72-4b43-a2ef-98ac09ba9e6a",
   "metadata": {
    "tags": []
   },
   "outputs": [
    {
     "data": {
      "text/html": [
       "<style>#sk-container-id-1 {color: black;}#sk-container-id-1 pre{padding: 0;}#sk-container-id-1 div.sk-toggleable {background-color: white;}#sk-container-id-1 label.sk-toggleable__label {cursor: pointer;display: block;width: 100%;margin-bottom: 0;padding: 0.3em;box-sizing: border-box;text-align: center;}#sk-container-id-1 label.sk-toggleable__label-arrow:before {content: \"▸\";float: left;margin-right: 0.25em;color: #696969;}#sk-container-id-1 label.sk-toggleable__label-arrow:hover:before {color: black;}#sk-container-id-1 div.sk-estimator:hover label.sk-toggleable__label-arrow:before {color: black;}#sk-container-id-1 div.sk-toggleable__content {max-height: 0;max-width: 0;overflow: hidden;text-align: left;background-color: #f0f8ff;}#sk-container-id-1 div.sk-toggleable__content pre {margin: 0.2em;color: black;border-radius: 0.25em;background-color: #f0f8ff;}#sk-container-id-1 input.sk-toggleable__control:checked~div.sk-toggleable__content {max-height: 200px;max-width: 100%;overflow: auto;}#sk-container-id-1 input.sk-toggleable__control:checked~label.sk-toggleable__label-arrow:before {content: \"▾\";}#sk-container-id-1 div.sk-estimator input.sk-toggleable__control:checked~label.sk-toggleable__label {background-color: #d4ebff;}#sk-container-id-1 div.sk-label input.sk-toggleable__control:checked~label.sk-toggleable__label {background-color: #d4ebff;}#sk-container-id-1 input.sk-hidden--visually {border: 0;clip: rect(1px 1px 1px 1px);clip: rect(1px, 1px, 1px, 1px);height: 1px;margin: -1px;overflow: hidden;padding: 0;position: absolute;width: 1px;}#sk-container-id-1 div.sk-estimator {font-family: monospace;background-color: #f0f8ff;border: 1px dotted black;border-radius: 0.25em;box-sizing: border-box;margin-bottom: 0.5em;}#sk-container-id-1 div.sk-estimator:hover {background-color: #d4ebff;}#sk-container-id-1 div.sk-parallel-item::after {content: \"\";width: 100%;border-bottom: 1px solid gray;flex-grow: 1;}#sk-container-id-1 div.sk-label:hover label.sk-toggleable__label {background-color: #d4ebff;}#sk-container-id-1 div.sk-serial::before {content: \"\";position: absolute;border-left: 1px solid gray;box-sizing: border-box;top: 0;bottom: 0;left: 50%;z-index: 0;}#sk-container-id-1 div.sk-serial {display: flex;flex-direction: column;align-items: center;background-color: white;padding-right: 0.2em;padding-left: 0.2em;position: relative;}#sk-container-id-1 div.sk-item {position: relative;z-index: 1;}#sk-container-id-1 div.sk-parallel {display: flex;align-items: stretch;justify-content: center;background-color: white;position: relative;}#sk-container-id-1 div.sk-item::before, #sk-container-id-1 div.sk-parallel-item::before {content: \"\";position: absolute;border-left: 1px solid gray;box-sizing: border-box;top: 0;bottom: 0;left: 50%;z-index: -1;}#sk-container-id-1 div.sk-parallel-item {display: flex;flex-direction: column;z-index: 1;position: relative;background-color: white;}#sk-container-id-1 div.sk-parallel-item:first-child::after {align-self: flex-end;width: 50%;}#sk-container-id-1 div.sk-parallel-item:last-child::after {align-self: flex-start;width: 50%;}#sk-container-id-1 div.sk-parallel-item:only-child::after {width: 0;}#sk-container-id-1 div.sk-dashed-wrapped {border: 1px dashed gray;margin: 0 0.4em 0.5em 0.4em;box-sizing: border-box;padding-bottom: 0.4em;background-color: white;}#sk-container-id-1 div.sk-label label {font-family: monospace;font-weight: bold;display: inline-block;line-height: 1.2em;}#sk-container-id-1 div.sk-label-container {text-align: center;}#sk-container-id-1 div.sk-container {/* jupyter's `normalize.less` sets `[hidden] { display: none; }` but bootstrap.min.css set `[hidden] { display: none !important; }` so we also need the `!important` here to be able to override the default hidden behavior on the sphinx rendered scikit-learn.org. See: https://github.com/scikit-learn/scikit-learn/issues/21755 */display: inline-block !important;position: relative;}#sk-container-id-1 div.sk-text-repr-fallback {display: none;}</style><div id=\"sk-container-id-1\" class=\"sk-top-container\"><div class=\"sk-text-repr-fallback\"><pre>SVR()</pre><b>In a Jupyter environment, please rerun this cell to show the HTML representation or trust the notebook. <br />On GitHub, the HTML representation is unable to render, please try loading this page with nbviewer.org.</b></div><div class=\"sk-container\" hidden><div class=\"sk-item\"><div class=\"sk-estimator sk-toggleable\"><input class=\"sk-toggleable__control sk-hidden--visually\" id=\"sk-estimator-id-1\" type=\"checkbox\" checked><label for=\"sk-estimator-id-1\" class=\"sk-toggleable__label sk-toggleable__label-arrow\">SVR</label><div class=\"sk-toggleable__content\"><pre>SVR()</pre></div></div></div></div></div>"
      ],
      "text/plain": [
       "SVR()"
      ]
     },
     "execution_count": 28,
     "metadata": {},
     "output_type": "execute_result"
    }
   ],
   "source": [
    "model.fit(X_train,y_train)"
   ]
  },
  {
   "cell_type": "code",
   "execution_count": 29,
   "id": "b9598917-9a66-4303-a506-adce52a25cda",
   "metadata": {
    "tags": []
   },
   "outputs": [],
   "source": [
    "y_pred=model.predict(X_test)\n"
   ]
  },
  {
   "cell_type": "code",
   "execution_count": 30,
   "id": "7e95a2f6-0217-4f65-a2f0-e2e784c69be0",
   "metadata": {
    "tags": []
   },
   "outputs": [
    {
     "data": {
      "text/plain": [
       "array([0.09161158, 0.08862162, 0.08362249, ..., 0.22542023, 0.23838921,\n",
       "       0.25293714])"
      ]
     },
     "execution_count": 30,
     "metadata": {},
     "output_type": "execute_result"
    }
   ],
   "source": [
    "y_pred"
   ]
  },
  {
   "cell_type": "code",
   "execution_count": 31,
   "id": "7205bde3-4004-4648-8603-a5aa2b4ed15a",
   "metadata": {
    "tags": []
   },
   "outputs": [],
   "source": [
    "from sklearn.metrics import r2_score"
   ]
  },
  {
   "cell_type": "code",
   "execution_count": 32,
   "id": "b69c0109-a6b1-498b-84aa-f8b3c828f0ed",
   "metadata": {
    "tags": []
   },
   "outputs": [
    {
     "data": {
      "text/plain": [
       "0.916741690133738"
      ]
     },
     "execution_count": 32,
     "metadata": {},
     "output_type": "execute_result"
    }
   ],
   "source": [
    "r2_score(ytest,y_pred)"
   ]
  },
  {
   "cell_type": "code",
   "execution_count": 33,
   "id": "290ee7d5-a5f0-4eb9-a081-b6fb2f9ef34c",
   "metadata": {
    "tags": []
   },
   "outputs": [
    {
     "data": {
      "text/plain": [
       "0.9189417296703877"
      ]
     },
     "execution_count": 33,
     "metadata": {},
     "output_type": "execute_result"
    }
   ],
   "source": [
    "model.score(X_train,y_train)"
   ]
  },
  {
   "cell_type": "code",
   "execution_count": 34,
   "id": "21d057eb-19f3-4ba1-8cab-7818addd708e",
   "metadata": {
    "tags": []
   },
   "outputs": [],
   "source": [
    "train_predict=model.predict(X_train)\n",
    "test_predict=model.predict(X_test)"
   ]
  },
  {
   "cell_type": "code",
   "execution_count": 35,
   "id": "8f4a5584-2d9c-4d71-83fe-8a1b63ffbd7c",
   "metadata": {
    "tags": []
   },
   "outputs": [],
   "source": [
    "train_predict=scaler.fit_transform(np.array(train_predict).reshape(-1,1))\n",
    "test_predict=scaler.fit_transform(np.array(test_predict).reshape(-1,1))"
   ]
  },
  {
   "cell_type": "code",
   "execution_count": 36,
   "id": "4d2e30a1-fc00-4016-8228-2c5e16bbecca",
   "metadata": {
    "tags": []
   },
   "outputs": [],
   "source": [
    "from sklearn.metrics import mean_squared_error"
   ]
  },
  {
   "cell_type": "code",
   "execution_count": 37,
   "id": "14972188-0b87-4a4a-b576-7a5f6071ff8b",
   "metadata": {
    "tags": []
   },
   "outputs": [
    {
     "data": {
      "text/plain": [
       "0.007408197206946924"
      ]
     },
     "execution_count": 37,
     "metadata": {},
     "output_type": "execute_result"
    }
   ],
   "source": [
    "mean_squared_error(y_train,train_predict)"
   ]
  },
  {
   "cell_type": "code",
   "execution_count": 38,
   "id": "b7bacc20-8e57-4b62-b819-f1a037a0bb66",
   "metadata": {
    "tags": []
   },
   "outputs": [
    {
     "data": {
      "text/plain": [
       "0.014094362636434538"
      ]
     },
     "execution_count": 38,
     "metadata": {},
     "output_type": "execute_result"
    }
   ],
   "source": [
    "mean_squared_error(ytest,test_predict)"
   ]
  },
  {
   "cell_type": "code",
   "execution_count": 39,
   "id": "f01f6538-5213-4667-ab47-06ae3e56e951",
   "metadata": {
    "tags": []
   },
   "outputs": [],
   "source": [
    "import matplotlib.pyplot as plt"
   ]
  },
  {
   "cell_type": "code",
   "execution_count": 40,
   "id": "507934d4-6210-4f2e-9f3b-cf94670a2ead",
   "metadata": {
    "tags": []
   },
   "outputs": [
    {
     "data": {
      "image/png": "[encoded data removed]",
      "text/plain": [
       "<Figure size 640x480 with 1 Axes>"
      ]
     },
     "metadata": {},
     "output_type": "display_data"
    }
   ],
   "source": [
    "### Plotting \n",
    "# shift train predictions for plotting\n",
    "look_back=10\n",
    "trainPredictPlot = numpy.empty_like(df1)\n",
    "trainPredictPlot[:, :] = np.nan\n",
    "trainPredictPlot[look_back:len(train_predict)+look_back, :] = train_predict\n",
    "# shift test predictions for plotting\n",
    "testPredictPlot = numpy.empty_like(df1)\n",
    "testPredictPlot[:, :] = numpy.nan\n",
    "testPredictPlot[len(train_predict)+(look_back*2)+1:len(df1)-1, :] = test_predict\n",
    "# plot baseline and predictions\n",
    "plt.plot(scaler.inverse_transform(df1))\n",
    "plt.plot(trainPredictPlot)\n",
    "plt.plot(testPredictPlot)\n",
    "plt.show()"
   ]
  },
  {
   "cell_type": "code",
   "execution_count": 41,
   "id": "1cd461b8-3099-49c3-9b77-e6f8d4b40693",
   "metadata": {
    "tags": []
   },
   "outputs": [
    {
     "data": {
      "text/plain": [
       "4437"
      ]
     },
     "execution_count": 41,
     "metadata": {},
     "output_type": "execute_result"
    }
   ],
   "source": [
    "len(test_data)"
   ]
  },
  {
   "cell_type": "code",
   "execution_count": 42,
   "id": "1177a37e-2ee0-413a-9fdc-a10b16ebfaf7",
   "metadata": {
    "tags": []
   },
   "outputs": [
    {
     "data": {
      "text/plain": [
       "(1, 10)"
      ]
     },
     "execution_count": 42,
     "metadata": {},
     "output_type": "execute_result"
    }
   ],
   "source": [
    "x_input=test_data[4427:].reshape(1,-1)\n",
    "x_input.shape\n"
   ]
  },
  {
   "cell_type": "code",
   "execution_count": 43,
   "id": "eb4cb1b8-a642-4248-9535-4b844578cd03",
   "metadata": {
    "tags": []
   },
   "outputs": [],
   "source": [
    "temp_input=list(x_input)\n",
    "temp_input=temp_input[0].tolist()"
   ]
  },
  {
   "cell_type": "code",
   "execution_count": 44,
   "id": "02b298a4-d8ae-4677-a5c5-17f67291903d",
   "metadata": {
    "tags": []
   },
   "outputs": [
    {
     "data": {
      "text/plain": [
       "[0.20522018067191872,\n",
       " 0.21185731498061455,\n",
       " 0.20176889311181606,\n",
       " 0.24238814799181013,\n",
       " 0.28221095384398504,\n",
       " 0.30238784821889825,\n",
       " 0.313272719115516,\n",
       " 0.31141432961105175,\n",
       " 0.2907064776571451,\n",
       " 0.255396925160376]"
      ]
     },
     "execution_count": 44,
     "metadata": {},
     "output_type": "execute_result"
    }
   ],
   "source": [
    "temp_input"
   ]
  },
  {
   "cell_type": "code",
   "execution_count": 45,
   "id": "f74d30c5-c137-49d0-bcc5-078a9192b06a",
   "metadata": {
    "tags": []
   },
   "outputs": [
    {
     "name": "stdout",
     "output_type": "stream",
     "text": [
      "0.23933940669461357\n",
      "1 day output [0.22766538]\n",
      "2 day output [0.21568577]\n",
      "3 day output [0.20331187]\n",
      "4 day output [0.19370708]\n",
      "5 day output [0.18400563]\n",
      "6 day output [0.17157224]\n",
      "7 day output [0.1542798]\n",
      "8 day output [0.13300181]\n",
      "9 day output [0.11213559]\n",
      "10 day output [0.09785249]\n",
      "11 day output [0.08824395]\n",
      "12 day output [0.08168037]\n",
      "13 day output [0.07715735]\n",
      "14 day output [0.07406843]\n",
      "15 day output [0.07158334]\n",
      "16 day output [0.06948167]\n",
      "17 day output [0.06811018]\n",
      "18 day output [0.0680743]\n",
      "19 day output [0.06938832]\n",
      "20 day output [0.07134156]\n",
      "21 day output [0.07319095]\n",
      "22 day output [0.07467324]\n",
      "23 day output [0.07574473]\n",
      "24 day output [0.07643161]\n",
      "25 day output [0.07677458]\n",
      "26 day output [0.07677589]\n",
      "27 day output [0.07642843]\n",
      "28 day output [0.07578545]\n",
      "29 day output [0.0750074]\n",
      "30 day output [0.07429251]\n",
      "31 day output [0.07376385]\n",
      "32 day output [0.07344769]\n",
      "33 day output [0.07332416]\n",
      "34 day output [0.07335792]\n",
      "35 day output [0.07351028]\n",
      "36 day output [0.07374278]\n",
      "37 day output [0.07401467]\n",
      "38 day output [0.07428169]\n",
      "39 day output [0.074502]\n",
      "40 day output [0.07464775]\n",
      "41 day output [0.07471195]\n",
      "42 day output [0.07470431]\n",
      "43 day output [0.07464266]\n",
      "44 day output [0.07454732]\n",
      "45 day output [0.07443801]\n",
      "46 day output [0.07433219]\n",
      "47 day output [0.07424395]\n",
      "48 day output [0.07418286]\n",
      "49 day output [0.07415292]\n",
      "50 day output [0.0741524]\n",
      "51 day output [0.07417507]\n",
      "52 day output [0.07421255]\n",
      "53 day output [0.07425627]\n",
      "54 day output [0.07429879]\n",
      "55 day output [0.0743344]\n",
      "56 day output [0.0743595]\n",
      "57 day output [0.07437255]\n",
      "58 day output [0.07437403]\n",
      "59 day output [0.07436599]\n",
      "60 day output [0.07435154]\n",
      "61 day output [0.07433412]\n",
      "62 day output [0.07431689]\n",
      "63 day output [0.07430229]\n",
      "64 day output [0.07429187]\n",
      "65 day output [0.07428626]\n",
      "66 day output [0.07428528]\n",
      "67 day output [0.07428815]\n",
      "68 day output [0.07429368]\n",
      "69 day output [0.07430054]\n",
      "70 day output [0.07430745]\n",
      "71 day output [0.07431341]\n",
      "72 day output [0.07431775]\n",
      "73 day output [0.07432017]\n",
      "74 day output [0.07432073]\n",
      "75 day output [0.07431971]\n",
      "76 day output [0.07431759]\n",
      "77 day output [0.07431489]\n",
      "78 day output [0.07431213]\n",
      "79 day output [0.0743097]\n",
      "80 day output [0.0743079]\n",
      "81 day output [0.07430686]\n",
      "82 day output [0.07430657]\n",
      "83 day output [0.07430692]\n",
      "84 day output [0.07430773]\n",
      "85 day output [0.07430879]\n",
      "86 day output [0.0743099]\n",
      "87 day output [0.07431088]\n",
      "88 day output [0.07431163]\n",
      "89 day output [0.07431207]\n",
      "[0.23933940669461357, 0.22766537840465645, 0.21568576893812702, 0.20331186885014413, 0.19370708496287725, 0.18400562617150368, 0.17157223563958507, 0.15427980376409767, 0.13300180830903963, 0.11213559158729602, 0.09785248933266838, 0.08824394996339435, 0.08168037317608007, 0.07715734580309785, 0.07406842846160494, 0.07158333781417253, 0.06948167424074198, 0.06811018154015602, 0.06807429630301337, 0.06938831592760514, 0.07134155937592607, 0.07319095208041931, 0.07467324041193307, 0.07574473187412006, 0.07643160679955902, 0.07677457944807026, 0.07677588906583116, 0.07642842849847681, 0.07578544649063934, 0.07500740212897, 0.0742925062562863, 0.07376385093214965, 0.0734476933335595, 0.07332416169127637, 0.07335792478687198, 0.0735102788135365, 0.07374278490670955, 0.07401466748832308, 0.07428169021227443, 0.07450199968462884, 0.07464775206066582, 0.07471195278151127, 0.07470430944954953, 0.07464266495587085, 0.07454732209506015, 0.07443800989893862, 0.07433219038647648, 0.07424394898530956, 0.07418285720487189, 0.07415292189624928, 0.07415239547144464, 0.07417507212894014, 0.07421255027803692, 0.07425627257921535, 0.07429878612256063, 0.07433440320158025, 0.07435949651654888, 0.07437255231360501, 0.07437402636497364, 0.07436598596540017, 0.07435153519037369, 0.07433411897598513, 0.07431689128218527, 0.0743022947913618, 0.07429187312043833, 0.07428625924415039, 0.07428528243885335, 0.07428815143496642, 0.07429368135840203, 0.07430053550161492, 0.07430745030843183, 0.07431341036751576, 0.07431774953426079, 0.07432017487435183, 0.07432072901225195, 0.0743197132839955, 0.07431759199601484, 0.07431489414648834, 0.07431212544384408, 0.07430970020452565, 0.07430789923717446, 0.07430685560162859, 0.07430656537743818, 0.0743069166185445, 0.07430772795873747, 0.07430878895935983, 0.07430989612815192, 0.07431088059062901, 0.07431162532002206, 0.07431207156435571]\n"
     ]
    }
   ],
   "source": [
    "import numpy as np\n",
    "from sklearn.svm import SVR  # Example import for SVM\n",
    "\n",
    "# Assuming temp_input and model are already defined, e.g.\n",
    "# temp_input = [initial data]\n",
    "# model = trained SVM model\n",
    "\n",
    "lst_output = []\n",
    "n_steps = 10\n",
    "i = 0\n",
    "\n",
    "while i < 90:\n",
    "    if len(temp_input) >10:\n",
    "        x_input = np.array(temp_input[-n_steps:])\n",
    "        #print(\"{} day input {}\".format(i, x_input))\n",
    "        x_input = x_input.reshape(1, -1)\n",
    "        yhat = model.predict(x_input)\n",
    "        print(\"{} day output {}\".format(i, yhat))\n",
    "        temp_input.extend(yhat.tolist())\n",
    "        lst_output.extend(yhat.tolist())\n",
    "        i += 1\n",
    "    else:\n",
    "        x_input = np.array(temp_input)\n",
    "        x_input = x_input.reshape(1, -1)\n",
    "        yhat = model.predict(x_input)\n",
    "        print(yhat[0])\n",
    "        temp_input.extend(yhat.tolist())\n",
    "        lst_output.extend(yhat.tolist())\n",
    "        i += 1\n",
    "\n",
    "print(lst_output)"
   ]
  },
  {
   "cell_type": "code",
   "execution_count": 46,
   "id": "069c5215-1150-45d9-bd95-556992e2ceb4",
   "metadata": {
    "tags": []
   },
   "outputs": [
    {
     "data": {
      "text/plain": [
       "array([[0.23933941],\n",
       "       [0.22766538],\n",
       "       [0.21568577],\n",
       "       [0.20331187],\n",
       "       [0.19370708],\n",
       "       [0.18400563],\n",
       "       [0.17157224],\n",
       "       [0.1542798 ],\n",
       "       [0.13300181],\n",
       "       [0.11213559],\n",
       "       [0.09785249],\n",
       "       [0.08824395],\n",
       "       [0.08168037],\n",
       "       [0.07715735],\n",
       "       [0.07406843],\n",
       "       [0.07158334],\n",
       "       [0.06948167],\n",
       "       [0.06811018],\n",
       "       [0.0680743 ],\n",
       "       [0.06938832],\n",
       "       [0.07134156],\n",
       "       [0.07319095],\n",
       "       [0.07467324],\n",
       "       [0.07574473],\n",
       "       [0.07643161],\n",
       "       [0.07677458],\n",
       "       [0.07677589],\n",
       "       [0.07642843],\n",
       "       [0.07578545],\n",
       "       [0.0750074 ],\n",
       "       [0.07429251],\n",
       "       [0.07376385],\n",
       "       [0.07344769],\n",
       "       [0.07332416],\n",
       "       [0.07335792],\n",
       "       [0.07351028],\n",
       "       [0.07374278],\n",
       "       [0.07401467],\n",
       "       [0.07428169],\n",
       "       [0.074502  ],\n",
       "       [0.07464775],\n",
       "       [0.07471195],\n",
       "       [0.07470431],\n",
       "       [0.07464266],\n",
       "       [0.07454732],\n",
       "       [0.07443801],\n",
       "       [0.07433219],\n",
       "       [0.07424395],\n",
       "       [0.07418286],\n",
       "       [0.07415292],\n",
       "       [0.0741524 ],\n",
       "       [0.07417507],\n",
       "       [0.07421255],\n",
       "       [0.07425627],\n",
       "       [0.07429879],\n",
       "       [0.0743344 ],\n",
       "       [0.0743595 ],\n",
       "       [0.07437255],\n",
       "       [0.07437403],\n",
       "       [0.07436599],\n",
       "       [0.07435154],\n",
       "       [0.07433412],\n",
       "       [0.07431689],\n",
       "       [0.07430229],\n",
       "       [0.07429187],\n",
       "       [0.07428626],\n",
       "       [0.07428528],\n",
       "       [0.07428815],\n",
       "       [0.07429368],\n",
       "       [0.07430054],\n",
       "       [0.07430745],\n",
       "       [0.07431341],\n",
       "       [0.07431775],\n",
       "       [0.07432017],\n",
       "       [0.07432073],\n",
       "       [0.07431971],\n",
       "       [0.07431759],\n",
       "       [0.07431489],\n",
       "       [0.07431213],\n",
       "       [0.0743097 ],\n",
       "       [0.0743079 ],\n",
       "       [0.07430686],\n",
       "       [0.07430657],\n",
       "       [0.07430692],\n",
       "       [0.07430773],\n",
       "       [0.07430879],\n",
       "       [0.0743099 ],\n",
       "       [0.07431088],\n",
       "       [0.07431163],\n",
       "       [0.07431207]])"
      ]
     },
     "execution_count": 46,
     "metadata": {},
     "output_type": "execute_result"
    }
   ],
   "source": [
    "np.array(lst_output).reshape(-1,1)"
   ]
  },
  {
   "cell_type": "code",
   "execution_count": 47,
   "id": "1d2086c1-d1b6-412f-b2b5-8a01191400e4",
   "metadata": {
    "tags": []
   },
   "outputs": [],
   "source": [
    "output_scaled_data=scaler.inverse_transform(np.array(lst_output).reshape(-1,1))"
   ]
  },
  {
   "cell_type": "code",
   "execution_count": 48,
   "id": "e087f9f1-b2c6-4e14-986a-a83d584e29ce",
   "metadata": {
    "tags": []
   },
   "outputs": [
    {
     "data": {
      "text/plain": [
       "array([[0.21335574],\n",
       "       [0.20597059],\n",
       "       [0.19839214],\n",
       "       [0.19056424],\n",
       "       [0.18448813],\n",
       "       [0.17835086],\n",
       "       [0.17048533],\n",
       "       [0.15954591],\n",
       "       [0.14608517],\n",
       "       [0.13288493],\n",
       "       [0.12384925],\n",
       "       [0.11777076],\n",
       "       [0.11361856],\n",
       "       [0.11075723],\n",
       "       [0.10880314],\n",
       "       [0.10723104],\n",
       "       [0.1059015 ],\n",
       "       [0.10503388],\n",
       "       [0.10501118],\n",
       "       [0.10584244],\n",
       "       [0.10707809],\n",
       "       [0.10824804],\n",
       "       [0.10918575],\n",
       "       [0.10986359],\n",
       "       [0.11029812],\n",
       "       [0.11051509],\n",
       "       [0.11051592],\n",
       "       [0.11029611],\n",
       "       [0.10988935],\n",
       "       [0.10939715],\n",
       "       [0.1089449 ],\n",
       "       [0.10861046],\n",
       "       [0.10841046],\n",
       "       [0.10833231],\n",
       "       [0.10835367],\n",
       "       [0.10845005],\n",
       "       [0.10859714],\n",
       "       [0.10876913],\n",
       "       [0.10893805],\n",
       "       [0.10907743],\n",
       "       [0.10916963],\n",
       "       [0.10921024],\n",
       "       [0.10920541],\n",
       "       [0.10916641],\n",
       "       [0.1091061 ],\n",
       "       [0.10903694],\n",
       "       [0.10897   ],\n",
       "       [0.10891418],\n",
       "       [0.10887553],\n",
       "       [0.10885659],\n",
       "       [0.10885626],\n",
       "       [0.10887061],\n",
       "       [0.10889432],\n",
       "       [0.10892198],\n",
       "       [0.10894887],\n",
       "       [0.1089714 ],\n",
       "       [0.10898728],\n",
       "       [0.10899554],\n",
       "       [0.10899647],\n",
       "       [0.10899138],\n",
       "       [0.10898224],\n",
       "       [0.10897122],\n",
       "       [0.10896032],\n",
       "       [0.10895109],\n",
       "       [0.1089445 ],\n",
       "       [0.10894095],\n",
       "       [0.10894033],\n",
       "       [0.10894214],\n",
       "       [0.10894564],\n",
       "       [0.10894998],\n",
       "       [0.10895435],\n",
       "       [0.10895812],\n",
       "       [0.10896087],\n",
       "       [0.1089624 ],\n",
       "       [0.10896275],\n",
       "       [0.10896211],\n",
       "       [0.10896077],\n",
       "       [0.10895906],\n",
       "       [0.10895731],\n",
       "       [0.10895577],\n",
       "       [0.10895464],\n",
       "       [0.10895397],\n",
       "       [0.10895379],\n",
       "       [0.10895401],\n",
       "       [0.10895453],\n",
       "       [0.1089552 ],\n",
       "       [0.1089559 ],\n",
       "       [0.10895652],\n",
       "       [0.10895699],\n",
       "       [0.10895727]])"
      ]
     },
     "execution_count": 48,
     "metadata": {},
     "output_type": "execute_result"
    }
   ],
   "source": [
    "output_scaled_data"
   ]
  },
  {
   "cell_type": "code",
   "execution_count": 49,
   "id": "2bc3ff09-d903-466d-878a-f3f876d58e98",
   "metadata": {
    "tags": []
   },
   "outputs": [],
   "source": [
    "day_new=np.arange(1,101)\n",
    "day_pred=np.arange(101,191)\n",
    "#(101,191) Because we are predicting for 90 days"
   ]
  },
  {
   "cell_type": "code",
   "execution_count": 50,
   "id": "bf6be2b9-8db8-4f77-a505-68dd529e06d2",
   "metadata": {
    "tags": []
   },
   "outputs": [
    {
     "data": {
      "text/plain": [
       "12676"
      ]
     },
     "execution_count": 50,
     "metadata": {},
     "output_type": "execute_result"
    }
   ],
   "source": [
    "len(df1)"
   ]
  },
  {
   "cell_type": "code",
   "execution_count": 51,
   "id": "f6a5003d-f9d8-45fc-b708-15e4eac7c0ed",
   "metadata": {
    "tags": []
   },
   "outputs": [
    {
     "data": {
      "text/plain": [
       "[<matplotlib.lines.Line2D at 0x25f7b78ae50>]"
      ]
     },
     "execution_count": 51,
     "metadata": {},
     "output_type": "execute_result"
    },
    {
     "data": {
      "image/png": "[encoded data removed]",
      "text/plain": [
       "<Figure size 640x480 with 1 Axes>"
      ]
     },
     "metadata": {},
     "output_type": "display_data"
    }
   ],
   "source": [
    "plt.plot(day_new,scaler.inverse_transform(np.array(df1[12576:]).reshape(-1,1)))\n",
    "plt.plot(day_pred,scaler.inverse_transform(np.array(lst_output).reshape(-1,1)))\n"
   ]
  },
  {
   "cell_type": "code",
   "execution_count": 52,
   "id": "1068ec6e-7e42-454e-94c6-8b5830cc8857",
   "metadata": {
    "tags": []
   },
   "outputs": [
    {
     "data": {
      "text/plain": [
       "[<matplotlib.lines.Line2D at 0x25f7b818400>]"
      ]
     },
     "execution_count": 52,
     "metadata": {},
     "output_type": "execute_result"
    },
    {
     "data": {
      "image/png": "[encoded data removed]",
      "text/plain": [
       "<Figure size 640x480 with 1 Axes>"
      ]
     },
     "metadata": {},
     "output_type": "display_data"
    }
   ],
   "source": [
    "plt.plot(day_new,scaler.inverse_transform(np.array(df1[12576:]).reshape(-1,1)))"
   ]
  },
  {
   "cell_type": "code",
   "execution_count": 53,
   "id": "bf1813e4-465e-4175-84f6-45f8d643791c",
   "metadata": {},
   "outputs": [
    {
     "data": {
      "text/plain": [
       "[<matplotlib.lines.Line2D at 0x25f7b88c910>]"
      ]
     },
     "execution_count": 53,
     "metadata": {},
     "output_type": "execute_result"
    },
    {
     "data": {
      "image/png": "[encoded data removed]",
      "text/plain": [
       "<Figure size 640x480 with 1 Axes>"
      ]
     },
     "metadata": {},
     "output_type": "display_data"
    }
   ],
   "source": [
    "plt.plot(day_pred,scaler.inverse_transform(np.array(lst_output).reshape(-1,1)))"
   ]
  },
  {
   "cell_type": "code",
   "execution_count": null,
   "id": "c1e3baa9-c00f-49a0-ac41-26d8e028a421",
   "metadata": {},
   "outputs": [],
   "source": []
  }
 ],
 "metadata": {
  "kernelspec": {
   "display_name": "Python 3 (ipykernel)",
   "language": "python",
   "name": "python3"
  },
  "language_info": {
   "codemirror_mode": {
    "name": "ipython",
    "version": 3
   },
   "file_extension": ".py",
   "mimetype": "text/x-python",
   "name": "python",
   "nbconvert_exporter": "python",
   "pygments_lexer": "ipython3",
   "version": "3.8.19"
  }
 },
 "nbformat": 4,
 "nbformat_minor": 5
}
