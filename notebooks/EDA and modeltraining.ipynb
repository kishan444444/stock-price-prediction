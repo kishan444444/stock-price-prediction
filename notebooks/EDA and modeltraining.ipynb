{
 "cells": [
  {
   "cell_type": "code",
   "execution_count": 63,
   "id": "50c031b4-e4c5-47e1-be4e-0ae8f292e4c1",
   "metadata": {},
   "outputs": [],
   "source": [
    "import pandas as pd\n",
    "import numpy as np\n",
    "import seaborn as sns"
   ]
  },
  {
   "cell_type": "code",
   "execution_count": 64,
   "id": "48933cd0-4403-4e5a-a883-cc1beb50fc04",
   "metadata": {
    "tags": []
   },
   "outputs": [],
   "source": [
    "data1=pd.read_csv(r\"C:\\Users\\kisha\\Desktop\\stock price prediction\\notebooks\\data\\stock prices data.csv\")"
   ]
  },
  {
   "cell_type": "code",
   "execution_count": 65,
   "id": "5406f157-1feb-4a6d-86b3-924c52ec982d",
   "metadata": {
    "tags": []
   },
   "outputs": [
    {
     "data": {
      "text/html": [
       "<div>\n",
       "<style scoped>\n",
       "    .dataframe tbody tr th:only-of-type {\n",
       "        vertical-align: middle;\n",
       "    }\n",
       "\n",
       "    .dataframe tbody tr th {\n",
       "        vertical-align: top;\n",
       "    }\n",
       "\n",
       "    .dataframe thead th {\n",
       "        text-align: right;\n",
       "    }\n",
       "</style>\n",
       "<table border=\"1\" class=\"dataframe\">\n",
       "  <thead>\n",
       "    <tr style=\"text-align: right;\">\n",
       "      <th></th>\n",
       "      <th>Date</th>\n",
       "      <th>Open</th>\n",
       "      <th>High</th>\n",
       "      <th>Low</th>\n",
       "      <th>Close</th>\n",
       "      <th>Adj Close</th>\n",
       "      <th>Volume</th>\n",
       "    </tr>\n",
       "  </thead>\n",
       "  <tbody>\n",
       "    <tr>\n",
       "      <th>0</th>\n",
       "      <td>1970-01-02</td>\n",
       "      <td>11.09950</td>\n",
       "      <td>11.204875</td>\n",
       "      <td>10.994125</td>\n",
       "      <td>11.169750</td>\n",
       "      <td>0.101497</td>\n",
       "      <td>24400</td>\n",
       "    </tr>\n",
       "    <tr>\n",
       "      <th>1</th>\n",
       "      <td>1970-01-05</td>\n",
       "      <td>11.16975</td>\n",
       "      <td>11.345375</td>\n",
       "      <td>11.169750</td>\n",
       "      <td>11.345375</td>\n",
       "      <td>0.103093</td>\n",
       "      <td>13700</td>\n",
       "    </tr>\n",
       "    <tr>\n",
       "      <th>2</th>\n",
       "      <td>1970-01-06</td>\n",
       "      <td>11.31025</td>\n",
       "      <td>11.310250</td>\n",
       "      <td>11.029250</td>\n",
       "      <td>11.134625</td>\n",
       "      <td>0.101178</td>\n",
       "      <td>15100</td>\n",
       "    </tr>\n",
       "    <tr>\n",
       "      <th>3</th>\n",
       "      <td>1970-01-07</td>\n",
       "      <td>11.09950</td>\n",
       "      <td>11.099500</td>\n",
       "      <td>10.713125</td>\n",
       "      <td>10.959000</td>\n",
       "      <td>0.099582</td>\n",
       "      <td>10600</td>\n",
       "    </tr>\n",
       "    <tr>\n",
       "      <th>4</th>\n",
       "      <td>1970-01-08</td>\n",
       "      <td>10.95900</td>\n",
       "      <td>10.959000</td>\n",
       "      <td>10.853625</td>\n",
       "      <td>10.959000</td>\n",
       "      <td>0.099582</td>\n",
       "      <td>18000</td>\n",
       "    </tr>\n",
       "    <tr>\n",
       "      <th>...</th>\n",
       "      <td>...</td>\n",
       "      <td>...</td>\n",
       "      <td>...</td>\n",
       "      <td>...</td>\n",
       "      <td>...</td>\n",
       "      <td>...</td>\n",
       "      <td>...</td>\n",
       "    </tr>\n",
       "    <tr>\n",
       "      <th>12671</th>\n",
       "      <td>2020-03-26</td>\n",
       "      <td>15.17000</td>\n",
       "      <td>16.230000</td>\n",
       "      <td>15.020000</td>\n",
       "      <td>15.890000</td>\n",
       "      <td>15.890000</td>\n",
       "      <td>9137700</td>\n",
       "    </tr>\n",
       "    <tr>\n",
       "      <th>12672</th>\n",
       "      <td>2020-03-27</td>\n",
       "      <td>15.22000</td>\n",
       "      <td>17.020000</td>\n",
       "      <td>15.080000</td>\n",
       "      <td>16.299999</td>\n",
       "      <td>16.299999</td>\n",
       "      <td>9872100</td>\n",
       "    </tr>\n",
       "    <tr>\n",
       "      <th>12673</th>\n",
       "      <td>2020-03-30</td>\n",
       "      <td>16.40000</td>\n",
       "      <td>16.549999</td>\n",
       "      <td>15.520000</td>\n",
       "      <td>16.230000</td>\n",
       "      <td>16.230000</td>\n",
       "      <td>7026600</td>\n",
       "    </tr>\n",
       "    <tr>\n",
       "      <th>12674</th>\n",
       "      <td>2020-03-31</td>\n",
       "      <td>16.07000</td>\n",
       "      <td>16.219999</td>\n",
       "      <td>15.340000</td>\n",
       "      <td>15.450000</td>\n",
       "      <td>15.450000</td>\n",
       "      <td>8535100</td>\n",
       "    </tr>\n",
       "    <tr>\n",
       "      <th>12675</th>\n",
       "      <td>2020-04-01</td>\n",
       "      <td>14.45000</td>\n",
       "      <td>14.580000</td>\n",
       "      <td>13.650000</td>\n",
       "      <td>14.120000</td>\n",
       "      <td>14.120000</td>\n",
       "      <td>9715400</td>\n",
       "    </tr>\n",
       "  </tbody>\n",
       "</table>\n",
       "<p>12676 rows × 7 columns</p>\n",
       "</div>"
      ],
      "text/plain": [
       "             Date      Open       High        Low      Close  Adj Close  \\\n",
       "0      1970-01-02  11.09950  11.204875  10.994125  11.169750   0.101497   \n",
       "1      1970-01-05  11.16975  11.345375  11.169750  11.345375   0.103093   \n",
       "2      1970-01-06  11.31025  11.310250  11.029250  11.134625   0.101178   \n",
       "3      1970-01-07  11.09950  11.099500  10.713125  10.959000   0.099582   \n",
       "4      1970-01-08  10.95900  10.959000  10.853625  10.959000   0.099582   \n",
       "...           ...       ...        ...        ...        ...        ...   \n",
       "12671  2020-03-26  15.17000  16.230000  15.020000  15.890000  15.890000   \n",
       "12672  2020-03-27  15.22000  17.020000  15.080000  16.299999  16.299999   \n",
       "12673  2020-03-30  16.40000  16.549999  15.520000  16.230000  16.230000   \n",
       "12674  2020-03-31  16.07000  16.219999  15.340000  15.450000  15.450000   \n",
       "12675  2020-04-01  14.45000  14.580000  13.650000  14.120000  14.120000   \n",
       "\n",
       "        Volume  \n",
       "0        24400  \n",
       "1        13700  \n",
       "2        15100  \n",
       "3        10600  \n",
       "4        18000  \n",
       "...        ...  \n",
       "12671  9137700  \n",
       "12672  9872100  \n",
       "12673  7026600  \n",
       "12674  8535100  \n",
       "12675  9715400  \n",
       "\n",
       "[12676 rows x 7 columns]"
      ]
     },
     "execution_count": 65,
     "metadata": {},
     "output_type": "execute_result"
    }
   ],
   "source": [
    "data1"
   ]
  },
  {
   "cell_type": "code",
   "execution_count": 66,
   "id": "39bba80d-66ab-4cf0-81e1-0c07321ee6ea",
   "metadata": {
    "tags": []
   },
   "outputs": [
    {
     "data": {
      "text/html": [
       "<div>\n",
       "<style scoped>\n",
       "    .dataframe tbody tr th:only-of-type {\n",
       "        vertical-align: middle;\n",
       "    }\n",
       "\n",
       "    .dataframe tbody tr th {\n",
       "        vertical-align: top;\n",
       "    }\n",
       "\n",
       "    .dataframe thead th {\n",
       "        text-align: right;\n",
       "    }\n",
       "</style>\n",
       "<table border=\"1\" class=\"dataframe\">\n",
       "  <thead>\n",
       "    <tr style=\"text-align: right;\">\n",
       "      <th></th>\n",
       "      <th>Date</th>\n",
       "      <th>Open</th>\n",
       "      <th>High</th>\n",
       "      <th>Low</th>\n",
       "      <th>Close</th>\n",
       "      <th>Adj Close</th>\n",
       "      <th>Volume</th>\n",
       "    </tr>\n",
       "  </thead>\n",
       "  <tbody>\n",
       "    <tr>\n",
       "      <th>0</th>\n",
       "      <td>1970-01-02</td>\n",
       "      <td>11.099500</td>\n",
       "      <td>11.204875</td>\n",
       "      <td>10.994125</td>\n",
       "      <td>11.169750</td>\n",
       "      <td>0.101497</td>\n",
       "      <td>24400</td>\n",
       "    </tr>\n",
       "    <tr>\n",
       "      <th>1</th>\n",
       "      <td>1970-01-05</td>\n",
       "      <td>11.169750</td>\n",
       "      <td>11.345375</td>\n",
       "      <td>11.169750</td>\n",
       "      <td>11.345375</td>\n",
       "      <td>0.103093</td>\n",
       "      <td>13700</td>\n",
       "    </tr>\n",
       "    <tr>\n",
       "      <th>2</th>\n",
       "      <td>1970-01-06</td>\n",
       "      <td>11.310250</td>\n",
       "      <td>11.310250</td>\n",
       "      <td>11.029250</td>\n",
       "      <td>11.134625</td>\n",
       "      <td>0.101178</td>\n",
       "      <td>15100</td>\n",
       "    </tr>\n",
       "    <tr>\n",
       "      <th>3</th>\n",
       "      <td>1970-01-07</td>\n",
       "      <td>11.099500</td>\n",
       "      <td>11.099500</td>\n",
       "      <td>10.713125</td>\n",
       "      <td>10.959000</td>\n",
       "      <td>0.099582</td>\n",
       "      <td>10600</td>\n",
       "    </tr>\n",
       "    <tr>\n",
       "      <th>4</th>\n",
       "      <td>1970-01-08</td>\n",
       "      <td>10.959000</td>\n",
       "      <td>10.959000</td>\n",
       "      <td>10.853625</td>\n",
       "      <td>10.959000</td>\n",
       "      <td>0.099582</td>\n",
       "      <td>18000</td>\n",
       "    </tr>\n",
       "    <tr>\n",
       "      <th>5</th>\n",
       "      <td>1970-01-09</td>\n",
       "      <td>10.959000</td>\n",
       "      <td>10.959000</td>\n",
       "      <td>10.888750</td>\n",
       "      <td>10.888750</td>\n",
       "      <td>0.098944</td>\n",
       "      <td>7100</td>\n",
       "    </tr>\n",
       "    <tr>\n",
       "      <th>6</th>\n",
       "      <td>1970-01-12</td>\n",
       "      <td>11.029250</td>\n",
       "      <td>11.134625</td>\n",
       "      <td>11.029250</td>\n",
       "      <td>11.134625</td>\n",
       "      <td>0.101178</td>\n",
       "      <td>13000</td>\n",
       "    </tr>\n",
       "    <tr>\n",
       "      <th>7</th>\n",
       "      <td>1970-01-13</td>\n",
       "      <td>11.134625</td>\n",
       "      <td>11.169750</td>\n",
       "      <td>11.064375</td>\n",
       "      <td>11.099500</td>\n",
       "      <td>0.100859</td>\n",
       "      <td>18000</td>\n",
       "    </tr>\n",
       "    <tr>\n",
       "      <th>8</th>\n",
       "      <td>1970-01-14</td>\n",
       "      <td>11.099500</td>\n",
       "      <td>11.099500</td>\n",
       "      <td>10.959000</td>\n",
       "      <td>10.959000</td>\n",
       "      <td>0.099582</td>\n",
       "      <td>24400</td>\n",
       "    </tr>\n",
       "    <tr>\n",
       "      <th>9</th>\n",
       "      <td>1970-01-15</td>\n",
       "      <td>10.959000</td>\n",
       "      <td>11.099500</td>\n",
       "      <td>10.818500</td>\n",
       "      <td>10.818500</td>\n",
       "      <td>0.098305</td>\n",
       "      <td>10900</td>\n",
       "    </tr>\n",
       "  </tbody>\n",
       "</table>\n",
       "</div>"
      ],
      "text/plain": [
       "         Date       Open       High        Low      Close  Adj Close  Volume\n",
       "0  1970-01-02  11.099500  11.204875  10.994125  11.169750   0.101497   24400\n",
       "1  1970-01-05  11.169750  11.345375  11.169750  11.345375   0.103093   13700\n",
       "2  1970-01-06  11.310250  11.310250  11.029250  11.134625   0.101178   15100\n",
       "3  1970-01-07  11.099500  11.099500  10.713125  10.959000   0.099582   10600\n",
       "4  1970-01-08  10.959000  10.959000  10.853625  10.959000   0.099582   18000\n",
       "5  1970-01-09  10.959000  10.959000  10.888750  10.888750   0.098944    7100\n",
       "6  1970-01-12  11.029250  11.134625  11.029250  11.134625   0.101178   13000\n",
       "7  1970-01-13  11.134625  11.169750  11.064375  11.099500   0.100859   18000\n",
       "8  1970-01-14  11.099500  11.099500  10.959000  10.959000   0.099582   24400\n",
       "9  1970-01-15  10.959000  11.099500  10.818500  10.818500   0.098305   10900"
      ]
     },
     "execution_count": 66,
     "metadata": {},
     "output_type": "execute_result"
    }
   ],
   "source": [
    "data1.head(10)"
   ]
  },
  {
   "cell_type": "code",
   "execution_count": 67,
   "id": "fe9cc132-18b8-42c7-bdbe-d247433b84cc",
   "metadata": {
    "tags": []
   },
   "outputs": [
    {
     "data": {
      "text/html": [
       "<div>\n",
       "<style scoped>\n",
       "    .dataframe tbody tr th:only-of-type {\n",
       "        vertical-align: middle;\n",
       "    }\n",
       "\n",
       "    .dataframe tbody tr th {\n",
       "        vertical-align: top;\n",
       "    }\n",
       "\n",
       "    .dataframe thead th {\n",
       "        text-align: right;\n",
       "    }\n",
       "</style>\n",
       "<table border=\"1\" class=\"dataframe\">\n",
       "  <thead>\n",
       "    <tr style=\"text-align: right;\">\n",
       "      <th></th>\n",
       "      <th>Date</th>\n",
       "      <th>Open</th>\n",
       "      <th>High</th>\n",
       "      <th>Low</th>\n",
       "      <th>Close</th>\n",
       "      <th>Adj Close</th>\n",
       "      <th>Volume</th>\n",
       "    </tr>\n",
       "  </thead>\n",
       "  <tbody>\n",
       "    <tr>\n",
       "      <th>12666</th>\n",
       "      <td>2020-03-19</td>\n",
       "      <td>12.35</td>\n",
       "      <td>12.740000</td>\n",
       "      <td>11.58</td>\n",
       "      <td>12.230000</td>\n",
       "      <td>12.230000</td>\n",
       "      <td>6883800</td>\n",
       "    </tr>\n",
       "    <tr>\n",
       "      <th>12667</th>\n",
       "      <td>2020-03-20</td>\n",
       "      <td>12.49</td>\n",
       "      <td>13.730000</td>\n",
       "      <td>11.68</td>\n",
       "      <td>12.480000</td>\n",
       "      <td>12.480000</td>\n",
       "      <td>16152100</td>\n",
       "    </tr>\n",
       "    <tr>\n",
       "      <th>12668</th>\n",
       "      <td>2020-03-23</td>\n",
       "      <td>12.37</td>\n",
       "      <td>12.860000</td>\n",
       "      <td>11.93</td>\n",
       "      <td>12.100000</td>\n",
       "      <td>12.100000</td>\n",
       "      <td>7790700</td>\n",
       "    </tr>\n",
       "    <tr>\n",
       "      <th>12669</th>\n",
       "      <td>2020-03-24</td>\n",
       "      <td>13.10</td>\n",
       "      <td>13.870000</td>\n",
       "      <td>12.90</td>\n",
       "      <td>13.630000</td>\n",
       "      <td>13.630000</td>\n",
       "      <td>6956800</td>\n",
       "    </tr>\n",
       "    <tr>\n",
       "      <th>12670</th>\n",
       "      <td>2020-03-25</td>\n",
       "      <td>13.98</td>\n",
       "      <td>15.750000</td>\n",
       "      <td>13.07</td>\n",
       "      <td>15.130000</td>\n",
       "      <td>15.130000</td>\n",
       "      <td>10463100</td>\n",
       "    </tr>\n",
       "    <tr>\n",
       "      <th>12671</th>\n",
       "      <td>2020-03-26</td>\n",
       "      <td>15.17</td>\n",
       "      <td>16.230000</td>\n",
       "      <td>15.02</td>\n",
       "      <td>15.890000</td>\n",
       "      <td>15.890000</td>\n",
       "      <td>9137700</td>\n",
       "    </tr>\n",
       "    <tr>\n",
       "      <th>12672</th>\n",
       "      <td>2020-03-27</td>\n",
       "      <td>15.22</td>\n",
       "      <td>17.020000</td>\n",
       "      <td>15.08</td>\n",
       "      <td>16.299999</td>\n",
       "      <td>16.299999</td>\n",
       "      <td>9872100</td>\n",
       "    </tr>\n",
       "    <tr>\n",
       "      <th>12673</th>\n",
       "      <td>2020-03-30</td>\n",
       "      <td>16.40</td>\n",
       "      <td>16.549999</td>\n",
       "      <td>15.52</td>\n",
       "      <td>16.230000</td>\n",
       "      <td>16.230000</td>\n",
       "      <td>7026600</td>\n",
       "    </tr>\n",
       "    <tr>\n",
       "      <th>12674</th>\n",
       "      <td>2020-03-31</td>\n",
       "      <td>16.07</td>\n",
       "      <td>16.219999</td>\n",
       "      <td>15.34</td>\n",
       "      <td>15.450000</td>\n",
       "      <td>15.450000</td>\n",
       "      <td>8535100</td>\n",
       "    </tr>\n",
       "    <tr>\n",
       "      <th>12675</th>\n",
       "      <td>2020-04-01</td>\n",
       "      <td>14.45</td>\n",
       "      <td>14.580000</td>\n",
       "      <td>13.65</td>\n",
       "      <td>14.120000</td>\n",
       "      <td>14.120000</td>\n",
       "      <td>9715400</td>\n",
       "    </tr>\n",
       "  </tbody>\n",
       "</table>\n",
       "</div>"
      ],
      "text/plain": [
       "             Date   Open       High    Low      Close  Adj Close    Volume\n",
       "12666  2020-03-19  12.35  12.740000  11.58  12.230000  12.230000   6883800\n",
       "12667  2020-03-20  12.49  13.730000  11.68  12.480000  12.480000  16152100\n",
       "12668  2020-03-23  12.37  12.860000  11.93  12.100000  12.100000   7790700\n",
       "12669  2020-03-24  13.10  13.870000  12.90  13.630000  13.630000   6956800\n",
       "12670  2020-03-25  13.98  15.750000  13.07  15.130000  15.130000  10463100\n",
       "12671  2020-03-26  15.17  16.230000  15.02  15.890000  15.890000   9137700\n",
       "12672  2020-03-27  15.22  17.020000  15.08  16.299999  16.299999   9872100\n",
       "12673  2020-03-30  16.40  16.549999  15.52  16.230000  16.230000   7026600\n",
       "12674  2020-03-31  16.07  16.219999  15.34  15.450000  15.450000   8535100\n",
       "12675  2020-04-01  14.45  14.580000  13.65  14.120000  14.120000   9715400"
      ]
     },
     "execution_count": 67,
     "metadata": {},
     "output_type": "execute_result"
    }
   ],
   "source": [
    "data1.tail(10)"
   ]
  },
  {
   "cell_type": "code",
   "execution_count": 119,
   "id": "349cb9a7",
   "metadata": {},
   "outputs": [
    {
     "data": {
      "text/html": [
       "<div>\n",
       "<style scoped>\n",
       "    .dataframe tbody tr th:only-of-type {\n",
       "        vertical-align: middle;\n",
       "    }\n",
       "\n",
       "    .dataframe tbody tr th {\n",
       "        vertical-align: top;\n",
       "    }\n",
       "\n",
       "    .dataframe thead th {\n",
       "        text-align: right;\n",
       "    }\n",
       "</style>\n",
       "<table border=\"1\" class=\"dataframe\">\n",
       "  <thead>\n",
       "    <tr style=\"text-align: right;\">\n",
       "      <th></th>\n",
       "      <th>Date</th>\n",
       "      <th>Open</th>\n",
       "      <th>High</th>\n",
       "      <th>Low</th>\n",
       "      <th>Close</th>\n",
       "      <th>Adj_Close</th>\n",
       "      <th>Volume</th>\n",
       "    </tr>\n",
       "  </thead>\n",
       "  <tbody>\n",
       "    <tr>\n",
       "      <th>0</th>\n",
       "      <td>1970-01-02</td>\n",
       "      <td>11.09950</td>\n",
       "      <td>11.204875</td>\n",
       "      <td>10.994125</td>\n",
       "      <td>11.169750</td>\n",
       "      <td>0.101497</td>\n",
       "      <td>24400</td>\n",
       "    </tr>\n",
       "    <tr>\n",
       "      <th>1</th>\n",
       "      <td>1970-01-05</td>\n",
       "      <td>11.16975</td>\n",
       "      <td>11.345375</td>\n",
       "      <td>11.169750</td>\n",
       "      <td>11.345375</td>\n",
       "      <td>0.103093</td>\n",
       "      <td>13700</td>\n",
       "    </tr>\n",
       "    <tr>\n",
       "      <th>2</th>\n",
       "      <td>1970-01-06</td>\n",
       "      <td>11.31025</td>\n",
       "      <td>11.310250</td>\n",
       "      <td>11.029250</td>\n",
       "      <td>11.134625</td>\n",
       "      <td>0.101178</td>\n",
       "      <td>15100</td>\n",
       "    </tr>\n",
       "    <tr>\n",
       "      <th>3</th>\n",
       "      <td>1970-01-07</td>\n",
       "      <td>11.09950</td>\n",
       "      <td>11.099500</td>\n",
       "      <td>10.713125</td>\n",
       "      <td>10.959000</td>\n",
       "      <td>0.099582</td>\n",
       "      <td>10600</td>\n",
       "    </tr>\n",
       "    <tr>\n",
       "      <th>4</th>\n",
       "      <td>1970-01-08</td>\n",
       "      <td>10.95900</td>\n",
       "      <td>10.959000</td>\n",
       "      <td>10.853625</td>\n",
       "      <td>10.959000</td>\n",
       "      <td>0.099582</td>\n",
       "      <td>18000</td>\n",
       "    </tr>\n",
       "    <tr>\n",
       "      <th>...</th>\n",
       "      <td>...</td>\n",
       "      <td>...</td>\n",
       "      <td>...</td>\n",
       "      <td>...</td>\n",
       "      <td>...</td>\n",
       "      <td>...</td>\n",
       "      <td>...</td>\n",
       "    </tr>\n",
       "    <tr>\n",
       "      <th>12671</th>\n",
       "      <td>2020-03-26</td>\n",
       "      <td>15.17000</td>\n",
       "      <td>16.230000</td>\n",
       "      <td>15.020000</td>\n",
       "      <td>15.890000</td>\n",
       "      <td>15.890000</td>\n",
       "      <td>9137700</td>\n",
       "    </tr>\n",
       "    <tr>\n",
       "      <th>12672</th>\n",
       "      <td>2020-03-27</td>\n",
       "      <td>15.22000</td>\n",
       "      <td>17.020000</td>\n",
       "      <td>15.080000</td>\n",
       "      <td>16.299999</td>\n",
       "      <td>16.299999</td>\n",
       "      <td>9872100</td>\n",
       "    </tr>\n",
       "    <tr>\n",
       "      <th>12673</th>\n",
       "      <td>2020-03-30</td>\n",
       "      <td>16.40000</td>\n",
       "      <td>16.549999</td>\n",
       "      <td>15.520000</td>\n",
       "      <td>16.230000</td>\n",
       "      <td>16.230000</td>\n",
       "      <td>7026600</td>\n",
       "    </tr>\n",
       "    <tr>\n",
       "      <th>12674</th>\n",
       "      <td>2020-03-31</td>\n",
       "      <td>16.07000</td>\n",
       "      <td>16.219999</td>\n",
       "      <td>15.340000</td>\n",
       "      <td>15.450000</td>\n",
       "      <td>15.450000</td>\n",
       "      <td>8535100</td>\n",
       "    </tr>\n",
       "    <tr>\n",
       "      <th>12675</th>\n",
       "      <td>2020-04-01</td>\n",
       "      <td>14.45000</td>\n",
       "      <td>14.580000</td>\n",
       "      <td>13.650000</td>\n",
       "      <td>14.120000</td>\n",
       "      <td>14.120000</td>\n",
       "      <td>9715400</td>\n",
       "    </tr>\n",
       "  </tbody>\n",
       "</table>\n",
       "<p>12676 rows × 7 columns</p>\n",
       "</div>"
      ],
      "text/plain": [
       "             Date      Open       High        Low      Close  Adj_Close  \\\n",
       "0      1970-01-02  11.09950  11.204875  10.994125  11.169750   0.101497   \n",
       "1      1970-01-05  11.16975  11.345375  11.169750  11.345375   0.103093   \n",
       "2      1970-01-06  11.31025  11.310250  11.029250  11.134625   0.101178   \n",
       "3      1970-01-07  11.09950  11.099500  10.713125  10.959000   0.099582   \n",
       "4      1970-01-08  10.95900  10.959000  10.853625  10.959000   0.099582   \n",
       "...           ...       ...        ...        ...        ...        ...   \n",
       "12671  2020-03-26  15.17000  16.230000  15.020000  15.890000  15.890000   \n",
       "12672  2020-03-27  15.22000  17.020000  15.080000  16.299999  16.299999   \n",
       "12673  2020-03-30  16.40000  16.549999  15.520000  16.230000  16.230000   \n",
       "12674  2020-03-31  16.07000  16.219999  15.340000  15.450000  15.450000   \n",
       "12675  2020-04-01  14.45000  14.580000  13.650000  14.120000  14.120000   \n",
       "\n",
       "        Volume  \n",
       "0        24400  \n",
       "1        13700  \n",
       "2        15100  \n",
       "3        10600  \n",
       "4        18000  \n",
       "...        ...  \n",
       "12671  9137700  \n",
       "12672  9872100  \n",
       "12673  7026600  \n",
       "12674  8535100  \n",
       "12675  9715400  \n",
       "\n",
       "[12676 rows x 7 columns]"
      ]
     },
     "execution_count": 119,
     "metadata": {},
     "output_type": "execute_result"
    }
   ],
   "source": [
    "data1.rename(columns = {'Adj Close':'Adj_Close'})"
   ]
  },
  {
   "cell_type": "code",
   "execution_count": 120,
   "id": "7dd320da",
   "metadata": {},
   "outputs": [
    {
     "data": {
      "text/html": [
       "<div>\n",
       "<style scoped>\n",
       "    .dataframe tbody tr th:only-of-type {\n",
       "        vertical-align: middle;\n",
       "    }\n",
       "\n",
       "    .dataframe tbody tr th {\n",
       "        vertical-align: top;\n",
       "    }\n",
       "\n",
       "    .dataframe thead th {\n",
       "        text-align: right;\n",
       "    }\n",
       "</style>\n",
       "<table border=\"1\" class=\"dataframe\">\n",
       "  <thead>\n",
       "    <tr style=\"text-align: right;\">\n",
       "      <th></th>\n",
       "      <th>Date</th>\n",
       "      <th>Open</th>\n",
       "      <th>High</th>\n",
       "      <th>Low</th>\n",
       "      <th>Close</th>\n",
       "      <th>Adj_Close</th>\n",
       "      <th>Volume</th>\n",
       "    </tr>\n",
       "  </thead>\n",
       "  <tbody>\n",
       "    <tr>\n",
       "      <th>0</th>\n",
       "      <td>1970-01-02</td>\n",
       "      <td>11.09950</td>\n",
       "      <td>11.204875</td>\n",
       "      <td>10.994125</td>\n",
       "      <td>11.169750</td>\n",
       "      <td>0.101497</td>\n",
       "      <td>24400</td>\n",
       "    </tr>\n",
       "    <tr>\n",
       "      <th>1</th>\n",
       "      <td>1970-01-05</td>\n",
       "      <td>11.16975</td>\n",
       "      <td>11.345375</td>\n",
       "      <td>11.169750</td>\n",
       "      <td>11.345375</td>\n",
       "      <td>0.103093</td>\n",
       "      <td>13700</td>\n",
       "    </tr>\n",
       "    <tr>\n",
       "      <th>2</th>\n",
       "      <td>1970-01-06</td>\n",
       "      <td>11.31025</td>\n",
       "      <td>11.310250</td>\n",
       "      <td>11.029250</td>\n",
       "      <td>11.134625</td>\n",
       "      <td>0.101178</td>\n",
       "      <td>15100</td>\n",
       "    </tr>\n",
       "    <tr>\n",
       "      <th>3</th>\n",
       "      <td>1970-01-07</td>\n",
       "      <td>11.09950</td>\n",
       "      <td>11.099500</td>\n",
       "      <td>10.713125</td>\n",
       "      <td>10.959000</td>\n",
       "      <td>0.099582</td>\n",
       "      <td>10600</td>\n",
       "    </tr>\n",
       "    <tr>\n",
       "      <th>4</th>\n",
       "      <td>1970-01-08</td>\n",
       "      <td>10.95900</td>\n",
       "      <td>10.959000</td>\n",
       "      <td>10.853625</td>\n",
       "      <td>10.959000</td>\n",
       "      <td>0.099582</td>\n",
       "      <td>18000</td>\n",
       "    </tr>\n",
       "    <tr>\n",
       "      <th>...</th>\n",
       "      <td>...</td>\n",
       "      <td>...</td>\n",
       "      <td>...</td>\n",
       "      <td>...</td>\n",
       "      <td>...</td>\n",
       "      <td>...</td>\n",
       "      <td>...</td>\n",
       "    </tr>\n",
       "    <tr>\n",
       "      <th>12671</th>\n",
       "      <td>2020-03-26</td>\n",
       "      <td>15.17000</td>\n",
       "      <td>16.230000</td>\n",
       "      <td>15.020000</td>\n",
       "      <td>15.890000</td>\n",
       "      <td>15.890000</td>\n",
       "      <td>9137700</td>\n",
       "    </tr>\n",
       "    <tr>\n",
       "      <th>12672</th>\n",
       "      <td>2020-03-27</td>\n",
       "      <td>15.22000</td>\n",
       "      <td>17.020000</td>\n",
       "      <td>15.080000</td>\n",
       "      <td>16.299999</td>\n",
       "      <td>16.299999</td>\n",
       "      <td>9872100</td>\n",
       "    </tr>\n",
       "    <tr>\n",
       "      <th>12673</th>\n",
       "      <td>2020-03-30</td>\n",
       "      <td>16.40000</td>\n",
       "      <td>16.549999</td>\n",
       "      <td>15.520000</td>\n",
       "      <td>16.230000</td>\n",
       "      <td>16.230000</td>\n",
       "      <td>7026600</td>\n",
       "    </tr>\n",
       "    <tr>\n",
       "      <th>12674</th>\n",
       "      <td>2020-03-31</td>\n",
       "      <td>16.07000</td>\n",
       "      <td>16.219999</td>\n",
       "      <td>15.340000</td>\n",
       "      <td>15.450000</td>\n",
       "      <td>15.450000</td>\n",
       "      <td>8535100</td>\n",
       "    </tr>\n",
       "    <tr>\n",
       "      <th>12675</th>\n",
       "      <td>2020-04-01</td>\n",
       "      <td>14.45000</td>\n",
       "      <td>14.580000</td>\n",
       "      <td>13.650000</td>\n",
       "      <td>14.120000</td>\n",
       "      <td>14.120000</td>\n",
       "      <td>9715400</td>\n",
       "    </tr>\n",
       "  </tbody>\n",
       "</table>\n",
       "<p>12676 rows × 7 columns</p>\n",
       "</div>"
      ],
      "text/plain": [
       "             Date      Open       High        Low      Close  Adj_Close  \\\n",
       "0      1970-01-02  11.09950  11.204875  10.994125  11.169750   0.101497   \n",
       "1      1970-01-05  11.16975  11.345375  11.169750  11.345375   0.103093   \n",
       "2      1970-01-06  11.31025  11.310250  11.029250  11.134625   0.101178   \n",
       "3      1970-01-07  11.09950  11.099500  10.713125  10.959000   0.099582   \n",
       "4      1970-01-08  10.95900  10.959000  10.853625  10.959000   0.099582   \n",
       "...           ...       ...        ...        ...        ...        ...   \n",
       "12671  2020-03-26  15.17000  16.230000  15.020000  15.890000  15.890000   \n",
       "12672  2020-03-27  15.22000  17.020000  15.080000  16.299999  16.299999   \n",
       "12673  2020-03-30  16.40000  16.549999  15.520000  16.230000  16.230000   \n",
       "12674  2020-03-31  16.07000  16.219999  15.340000  15.450000  15.450000   \n",
       "12675  2020-04-01  14.45000  14.580000  13.650000  14.120000  14.120000   \n",
       "\n",
       "        Volume  \n",
       "0        24400  \n",
       "1        13700  \n",
       "2        15100  \n",
       "3        10600  \n",
       "4        18000  \n",
       "...        ...  \n",
       "12671  9137700  \n",
       "12672  9872100  \n",
       "12673  7026600  \n",
       "12674  8535100  \n",
       "12675  9715400  \n",
       "\n",
       "[12676 rows x 7 columns]"
      ]
     },
     "execution_count": 120,
     "metadata": {},
     "output_type": "execute_result"
    }
   ],
   "source": [
    "data1"
   ]
  },
  {
   "cell_type": "code",
   "execution_count": 70,
   "id": "e1f84bd8-aa74-46c0-bb6f-d883a4952e80",
   "metadata": {
    "tags": []
   },
   "outputs": [
    {
     "data": {
      "text/plain": [
       "Date         0\n",
       "Open         0\n",
       "High         0\n",
       "Low          0\n",
       "Close        0\n",
       "Adj_Close    0\n",
       "Volume       0\n",
       "dtype: int64"
      ]
     },
     "execution_count": 70,
     "metadata": {},
     "output_type": "execute_result"
    }
   ],
   "source": [
    "data1.isnull().sum()"
   ]
  },
  {
   "cell_type": "code",
   "execution_count": 71,
   "id": "54d23e08-4b87-452b-9629-2bbce216103e",
   "metadata": {
    "tags": []
   },
   "outputs": [
    {
     "data": {
      "text/plain": [
       "0"
      ]
     },
     "execution_count": 71,
     "metadata": {},
     "output_type": "execute_result"
    }
   ],
   "source": [
    "data1.duplicated().sum()"
   ]
  },
  {
   "cell_type": "code",
   "execution_count": 72,
   "id": "e49ec8f1-078a-48ed-9800-12a4c132e76a",
   "metadata": {
    "tags": []
   },
   "outputs": [],
   "source": [
    "data=data1.drop(\"Date\",axis=1)"
   ]
  },
  {
   "cell_type": "code",
   "execution_count": 73,
   "id": "0879560d-895f-41c1-af1c-b0eb9d3d4fa2",
   "metadata": {
    "tags": []
   },
   "outputs": [],
   "source": [
    "X=data.drop(\"Close\",axis=1)"
   ]
  },
  {
   "cell_type": "code",
   "execution_count": 100,
   "id": "50861793-76b0-4d6d-8d00-513f65eac882",
   "metadata": {
    "tags": []
   },
   "outputs": [],
   "source": [
    "y=data[\"Close\"]"
   ]
  },
  {
   "cell_type": "code",
   "execution_count": 75,
   "id": "8f0a59c2-a73d-408e-9029-5edbc2291fe9",
   "metadata": {
    "tags": []
   },
   "outputs": [
    {
     "data": {
      "text/plain": [
       "63380"
      ]
     },
     "execution_count": 75,
     "metadata": {},
     "output_type": "execute_result"
    }
   ],
   "source": [
    "X.size"
   ]
  },
  {
   "cell_type": "code",
   "execution_count": 76,
   "id": "e3e07b38-c880-4695-97f9-e1f4310b21bd",
   "metadata": {
    "tags": []
   },
   "outputs": [
    {
     "data": {
      "text/plain": [
       "12676"
      ]
     },
     "execution_count": 76,
     "metadata": {},
     "output_type": "execute_result"
    }
   ],
   "source": [
    "y.size"
   ]
  },
  {
   "cell_type": "code",
   "execution_count": 77,
   "id": "eb2c17bb-cd0d-4125-9517-1d9606634298",
   "metadata": {
    "tags": []
   },
   "outputs": [
    {
     "data": {
      "text/plain": [
       "Open         float64\n",
       "High         float64\n",
       "Low          float64\n",
       "Close        float64\n",
       "Adj_Close    float64\n",
       "Volume         int64\n",
       "dtype: object"
      ]
     },
     "execution_count": 77,
     "metadata": {},
     "output_type": "execute_result"
    }
   ],
   "source": [
    "data.dtypes"
   ]
  },
  {
   "cell_type": "code",
   "execution_count": 78,
   "id": "3851fefc-8765-4845-8a58-e4afdaab549a",
   "metadata": {
    "tags": []
   },
   "outputs": [
    {
     "data": {
      "text/plain": [
       "<Axes: >"
      ]
     },
     "execution_count": 78,
     "metadata": {},
     "output_type": "execute_result"
    },
    {
     "data": {
      "image/png": "[encoded data removed]",
      "text/plain": [
       "<Figure size 640x480 with 1 Axes>"
      ]
     },
     "metadata": {},
     "output_type": "display_data"
    }
   ],
   "source": [
    "sns.boxplot(data)"
   ]
  },
  {
   "cell_type": "code",
   "execution_count": 79,
   "id": "fa269cbb-d7b7-4066-839f-35520a505418",
   "metadata": {
    "tags": []
   },
   "outputs": [
    {
     "data": {
      "text/html": [
       "<div>\n",
       "<style scoped>\n",
       "    .dataframe tbody tr th:only-of-type {\n",
       "        vertical-align: middle;\n",
       "    }\n",
       "\n",
       "    .dataframe tbody tr th {\n",
       "        vertical-align: top;\n",
       "    }\n",
       "\n",
       "    .dataframe thead th {\n",
       "        text-align: right;\n",
       "    }\n",
       "</style>\n",
       "<table border=\"1\" class=\"dataframe\">\n",
       "  <thead>\n",
       "    <tr style=\"text-align: right;\">\n",
       "      <th></th>\n",
       "      <th>Open</th>\n",
       "      <th>High</th>\n",
       "      <th>Low</th>\n",
       "      <th>Close</th>\n",
       "      <th>Adj_Close</th>\n",
       "      <th>Volume</th>\n",
       "    </tr>\n",
       "  </thead>\n",
       "  <tbody>\n",
       "    <tr>\n",
       "      <th>0</th>\n",
       "      <td>11.09950</td>\n",
       "      <td>11.204875</td>\n",
       "      <td>10.994125</td>\n",
       "      <td>11.169750</td>\n",
       "      <td>0.101497</td>\n",
       "      <td>24400</td>\n",
       "    </tr>\n",
       "    <tr>\n",
       "      <th>1</th>\n",
       "      <td>11.16975</td>\n",
       "      <td>11.345375</td>\n",
       "      <td>11.169750</td>\n",
       "      <td>11.345375</td>\n",
       "      <td>0.103093</td>\n",
       "      <td>13700</td>\n",
       "    </tr>\n",
       "    <tr>\n",
       "      <th>2</th>\n",
       "      <td>11.31025</td>\n",
       "      <td>11.310250</td>\n",
       "      <td>11.029250</td>\n",
       "      <td>11.134625</td>\n",
       "      <td>0.101178</td>\n",
       "      <td>15100</td>\n",
       "    </tr>\n",
       "    <tr>\n",
       "      <th>3</th>\n",
       "      <td>11.09950</td>\n",
       "      <td>11.099500</td>\n",
       "      <td>10.713125</td>\n",
       "      <td>10.959000</td>\n",
       "      <td>0.099582</td>\n",
       "      <td>10600</td>\n",
       "    </tr>\n",
       "    <tr>\n",
       "      <th>4</th>\n",
       "      <td>10.95900</td>\n",
       "      <td>10.959000</td>\n",
       "      <td>10.853625</td>\n",
       "      <td>10.959000</td>\n",
       "      <td>0.099582</td>\n",
       "      <td>18000</td>\n",
       "    </tr>\n",
       "    <tr>\n",
       "      <th>...</th>\n",
       "      <td>...</td>\n",
       "      <td>...</td>\n",
       "      <td>...</td>\n",
       "      <td>...</td>\n",
       "      <td>...</td>\n",
       "      <td>...</td>\n",
       "    </tr>\n",
       "    <tr>\n",
       "      <th>12671</th>\n",
       "      <td>15.17000</td>\n",
       "      <td>16.230000</td>\n",
       "      <td>15.020000</td>\n",
       "      <td>15.890000</td>\n",
       "      <td>15.890000</td>\n",
       "      <td>9137700</td>\n",
       "    </tr>\n",
       "    <tr>\n",
       "      <th>12672</th>\n",
       "      <td>15.22000</td>\n",
       "      <td>17.020000</td>\n",
       "      <td>15.080000</td>\n",
       "      <td>16.299999</td>\n",
       "      <td>16.299999</td>\n",
       "      <td>9872100</td>\n",
       "    </tr>\n",
       "    <tr>\n",
       "      <th>12673</th>\n",
       "      <td>16.40000</td>\n",
       "      <td>16.549999</td>\n",
       "      <td>15.520000</td>\n",
       "      <td>16.230000</td>\n",
       "      <td>16.230000</td>\n",
       "      <td>7026600</td>\n",
       "    </tr>\n",
       "    <tr>\n",
       "      <th>12674</th>\n",
       "      <td>16.07000</td>\n",
       "      <td>16.219999</td>\n",
       "      <td>15.340000</td>\n",
       "      <td>15.450000</td>\n",
       "      <td>15.450000</td>\n",
       "      <td>8535100</td>\n",
       "    </tr>\n",
       "    <tr>\n",
       "      <th>12675</th>\n",
       "      <td>14.45000</td>\n",
       "      <td>14.580000</td>\n",
       "      <td>13.650000</td>\n",
       "      <td>14.120000</td>\n",
       "      <td>14.120000</td>\n",
       "      <td>9715400</td>\n",
       "    </tr>\n",
       "  </tbody>\n",
       "</table>\n",
       "<p>12676 rows × 6 columns</p>\n",
       "</div>"
      ],
      "text/plain": [
       "           Open       High        Low      Close  Adj_Close   Volume\n",
       "0      11.09950  11.204875  10.994125  11.169750   0.101497    24400\n",
       "1      11.16975  11.345375  11.169750  11.345375   0.103093    13700\n",
       "2      11.31025  11.310250  11.029250  11.134625   0.101178    15100\n",
       "3      11.09950  11.099500  10.713125  10.959000   0.099582    10600\n",
       "4      10.95900  10.959000  10.853625  10.959000   0.099582    18000\n",
       "...         ...        ...        ...        ...        ...      ...\n",
       "12671  15.17000  16.230000  15.020000  15.890000  15.890000  9137700\n",
       "12672  15.22000  17.020000  15.080000  16.299999  16.299999  9872100\n",
       "12673  16.40000  16.549999  15.520000  16.230000  16.230000  7026600\n",
       "12674  16.07000  16.219999  15.340000  15.450000  15.450000  8535100\n",
       "12675  14.45000  14.580000  13.650000  14.120000  14.120000  9715400\n",
       "\n",
       "[12676 rows x 6 columns]"
      ]
     },
     "execution_count": 79,
     "metadata": {},
     "output_type": "execute_result"
    }
   ],
   "source": [
    "data"
   ]
  },
  {
   "cell_type": "code",
   "execution_count": 80,
   "id": "2f6efa1b-eb42-4904-8c02-776da8c861df",
   "metadata": {
    "tags": []
   },
   "outputs": [],
   "source": [
    "mean_value=data[\"Volume\"].mean()"
   ]
  },
  {
   "cell_type": "code",
   "execution_count": 81,
   "id": "71510181-1962-4332-ab27-7f1354c967f0",
   "metadata": {
    "tags": []
   },
   "outputs": [
    {
     "data": {
      "text/plain": [
       "1603629.4256863364"
      ]
     },
     "execution_count": 81,
     "metadata": {},
     "output_type": "execute_result"
    }
   ],
   "source": [
    "mean_value"
   ]
  },
  {
   "cell_type": "code",
   "execution_count": 82,
   "id": "4cfa9810-3b56-452d-a00d-48ed8056dc96",
   "metadata": {
    "tags": []
   },
   "outputs": [],
   "source": [
    "import pandas as pd\n",
    "import numpy as np\n",
    "\n",
    "# Sample DataFrame\n",
    "\n",
    "data = pd.DataFrame(data)\n",
    "\n",
    "# Calculate IQR\n",
    "Q1 = data['Volume'].quantile(0.25)\n",
    "Q3 = data['Volume'].quantile(0.75)\n",
    "IQR = Q3 - Q1\n",
    "\n",
    "# Define outlier bounds\n",
    "lower_bound = Q1 - 1.5 * IQR\n",
    "upper_bound = Q3 + 1.5 * IQR\n",
    "\n",
    "# Identify outliers\n",
    "outliers = data[(data['Volume'] < lower_bound) | (data['Volume'] > upper_bound)]\n",
    "\n",
    "# Calculate the mean of non-outliers\n",
    "mean_value = data[(data['Volume'] >= lower_bound) & (data['Volume'] <= upper_bound)]['Volume'].mean()\n",
    "\n",
    "# Replace outliers with the mean value\n",
    "data['Volume'] = data['Volume'].apply(lambda x: mean_value if (x < lower_bound or x > upper_bound) else x)\n",
    "\n"
   ]
  },
  {
   "cell_type": "code",
   "execution_count": 83,
   "id": "f6c34451-b76d-43ae-b4ae-e1401cb56219",
   "metadata": {
    "tags": []
   },
   "outputs": [
    {
     "data": {
      "text/html": [
       "<div>\n",
       "<style scoped>\n",
       "    .dataframe tbody tr th:only-of-type {\n",
       "        vertical-align: middle;\n",
       "    }\n",
       "\n",
       "    .dataframe tbody tr th {\n",
       "        vertical-align: top;\n",
       "    }\n",
       "\n",
       "    .dataframe thead th {\n",
       "        text-align: right;\n",
       "    }\n",
       "</style>\n",
       "<table border=\"1\" class=\"dataframe\">\n",
       "  <thead>\n",
       "    <tr style=\"text-align: right;\">\n",
       "      <th></th>\n",
       "      <th>Open</th>\n",
       "      <th>High</th>\n",
       "      <th>Low</th>\n",
       "      <th>Close</th>\n",
       "      <th>Adj_Close</th>\n",
       "      <th>Volume</th>\n",
       "    </tr>\n",
       "  </thead>\n",
       "  <tbody>\n",
       "    <tr>\n",
       "      <th>0</th>\n",
       "      <td>11.09950</td>\n",
       "      <td>11.204875</td>\n",
       "      <td>10.994125</td>\n",
       "      <td>11.169750</td>\n",
       "      <td>0.101497</td>\n",
       "      <td>2.440000e+04</td>\n",
       "    </tr>\n",
       "    <tr>\n",
       "      <th>1</th>\n",
       "      <td>11.16975</td>\n",
       "      <td>11.345375</td>\n",
       "      <td>11.169750</td>\n",
       "      <td>11.345375</td>\n",
       "      <td>0.103093</td>\n",
       "      <td>1.370000e+04</td>\n",
       "    </tr>\n",
       "    <tr>\n",
       "      <th>2</th>\n",
       "      <td>11.31025</td>\n",
       "      <td>11.310250</td>\n",
       "      <td>11.029250</td>\n",
       "      <td>11.134625</td>\n",
       "      <td>0.101178</td>\n",
       "      <td>1.510000e+04</td>\n",
       "    </tr>\n",
       "    <tr>\n",
       "      <th>3</th>\n",
       "      <td>11.09950</td>\n",
       "      <td>11.099500</td>\n",
       "      <td>10.713125</td>\n",
       "      <td>10.959000</td>\n",
       "      <td>0.099582</td>\n",
       "      <td>1.060000e+04</td>\n",
       "    </tr>\n",
       "    <tr>\n",
       "      <th>4</th>\n",
       "      <td>10.95900</td>\n",
       "      <td>10.959000</td>\n",
       "      <td>10.853625</td>\n",
       "      <td>10.959000</td>\n",
       "      <td>0.099582</td>\n",
       "      <td>1.800000e+04</td>\n",
       "    </tr>\n",
       "    <tr>\n",
       "      <th>...</th>\n",
       "      <td>...</td>\n",
       "      <td>...</td>\n",
       "      <td>...</td>\n",
       "      <td>...</td>\n",
       "      <td>...</td>\n",
       "      <td>...</td>\n",
       "    </tr>\n",
       "    <tr>\n",
       "      <th>12671</th>\n",
       "      <td>15.17000</td>\n",
       "      <td>16.230000</td>\n",
       "      <td>15.020000</td>\n",
       "      <td>15.890000</td>\n",
       "      <td>15.890000</td>\n",
       "      <td>1.274470e+06</td>\n",
       "    </tr>\n",
       "    <tr>\n",
       "      <th>12672</th>\n",
       "      <td>15.22000</td>\n",
       "      <td>17.020000</td>\n",
       "      <td>15.080000</td>\n",
       "      <td>16.299999</td>\n",
       "      <td>16.299999</td>\n",
       "      <td>1.274470e+06</td>\n",
       "    </tr>\n",
       "    <tr>\n",
       "      <th>12673</th>\n",
       "      <td>16.40000</td>\n",
       "      <td>16.549999</td>\n",
       "      <td>15.520000</td>\n",
       "      <td>16.230000</td>\n",
       "      <td>16.230000</td>\n",
       "      <td>1.274470e+06</td>\n",
       "    </tr>\n",
       "    <tr>\n",
       "      <th>12674</th>\n",
       "      <td>16.07000</td>\n",
       "      <td>16.219999</td>\n",
       "      <td>15.340000</td>\n",
       "      <td>15.450000</td>\n",
       "      <td>15.450000</td>\n",
       "      <td>1.274470e+06</td>\n",
       "    </tr>\n",
       "    <tr>\n",
       "      <th>12675</th>\n",
       "      <td>14.45000</td>\n",
       "      <td>14.580000</td>\n",
       "      <td>13.650000</td>\n",
       "      <td>14.120000</td>\n",
       "      <td>14.120000</td>\n",
       "      <td>1.274470e+06</td>\n",
       "    </tr>\n",
       "  </tbody>\n",
       "</table>\n",
       "<p>12676 rows × 6 columns</p>\n",
       "</div>"
      ],
      "text/plain": [
       "           Open       High        Low      Close  Adj_Close        Volume\n",
       "0      11.09950  11.204875  10.994125  11.169750   0.101497  2.440000e+04\n",
       "1      11.16975  11.345375  11.169750  11.345375   0.103093  1.370000e+04\n",
       "2      11.31025  11.310250  11.029250  11.134625   0.101178  1.510000e+04\n",
       "3      11.09950  11.099500  10.713125  10.959000   0.099582  1.060000e+04\n",
       "4      10.95900  10.959000  10.853625  10.959000   0.099582  1.800000e+04\n",
       "...         ...        ...        ...        ...        ...           ...\n",
       "12671  15.17000  16.230000  15.020000  15.890000  15.890000  1.274470e+06\n",
       "12672  15.22000  17.020000  15.080000  16.299999  16.299999  1.274470e+06\n",
       "12673  16.40000  16.549999  15.520000  16.230000  16.230000  1.274470e+06\n",
       "12674  16.07000  16.219999  15.340000  15.450000  15.450000  1.274470e+06\n",
       "12675  14.45000  14.580000  13.650000  14.120000  14.120000  1.274470e+06\n",
       "\n",
       "[12676 rows x 6 columns]"
      ]
     },
     "execution_count": 83,
     "metadata": {},
     "output_type": "execute_result"
    }
   ],
   "source": [
    "data"
   ]
  },
  {
   "cell_type": "code",
   "execution_count": 84,
   "id": "63b75c26-8e8d-41e6-87b4-6229fd653963",
   "metadata": {
    "tags": []
   },
   "outputs": [
    {
     "data": {
      "text/plain": [
       "<Axes: >"
      ]
     },
     "execution_count": 84,
     "metadata": {},
     "output_type": "execute_result"
    },
    {
     "data": {
      "image/png": "[encoded data removed]",
      "text/plain": [
       "<Figure size 640x480 with 1 Axes>"
      ]
     },
     "metadata": {},
     "output_type": "display_data"
    }
   ],
   "source": [
    "sns.boxplot(data)"
   ]
  },
  {
   "cell_type": "code",
   "execution_count": 85,
   "id": "6e9cfdc2-6a78-4595-9958-94d38bf14946",
   "metadata": {
    "tags": []
   },
   "outputs": [
    {
     "data": {
      "text/plain": [
       "Open         float64\n",
       "High         float64\n",
       "Low          float64\n",
       "Close        float64\n",
       "Adj_Close    float64\n",
       "Volume       float64\n",
       "dtype: object"
      ]
     },
     "execution_count": 85,
     "metadata": {},
     "output_type": "execute_result"
    }
   ],
   "source": [
    "data.dtypes"
   ]
  },
  {
   "cell_type": "code",
   "execution_count": 86,
   "id": "bf9a2759",
   "metadata": {},
   "outputs": [
    {
     "data": {
      "text/html": [
       "<div>\n",
       "<style scoped>\n",
       "    .dataframe tbody tr th:only-of-type {\n",
       "        vertical-align: middle;\n",
       "    }\n",
       "\n",
       "    .dataframe tbody tr th {\n",
       "        vertical-align: top;\n",
       "    }\n",
       "\n",
       "    .dataframe thead th {\n",
       "        text-align: right;\n",
       "    }\n",
       "</style>\n",
       "<table border=\"1\" class=\"dataframe\">\n",
       "  <thead>\n",
       "    <tr style=\"text-align: right;\">\n",
       "      <th></th>\n",
       "      <th>Open</th>\n",
       "      <th>High</th>\n",
       "      <th>Low</th>\n",
       "      <th>Close</th>\n",
       "      <th>Adj_Close</th>\n",
       "      <th>Volume</th>\n",
       "    </tr>\n",
       "  </thead>\n",
       "  <tbody>\n",
       "    <tr>\n",
       "      <th>0</th>\n",
       "      <td>11.09950</td>\n",
       "      <td>11.204875</td>\n",
       "      <td>10.994125</td>\n",
       "      <td>11.169750</td>\n",
       "      <td>0.101497</td>\n",
       "      <td>2.440000e+04</td>\n",
       "    </tr>\n",
       "    <tr>\n",
       "      <th>1</th>\n",
       "      <td>11.16975</td>\n",
       "      <td>11.345375</td>\n",
       "      <td>11.169750</td>\n",
       "      <td>11.345375</td>\n",
       "      <td>0.103093</td>\n",
       "      <td>1.370000e+04</td>\n",
       "    </tr>\n",
       "    <tr>\n",
       "      <th>2</th>\n",
       "      <td>11.31025</td>\n",
       "      <td>11.310250</td>\n",
       "      <td>11.029250</td>\n",
       "      <td>11.134625</td>\n",
       "      <td>0.101178</td>\n",
       "      <td>1.510000e+04</td>\n",
       "    </tr>\n",
       "    <tr>\n",
       "      <th>3</th>\n",
       "      <td>11.09950</td>\n",
       "      <td>11.099500</td>\n",
       "      <td>10.713125</td>\n",
       "      <td>10.959000</td>\n",
       "      <td>0.099582</td>\n",
       "      <td>1.060000e+04</td>\n",
       "    </tr>\n",
       "    <tr>\n",
       "      <th>4</th>\n",
       "      <td>10.95900</td>\n",
       "      <td>10.959000</td>\n",
       "      <td>10.853625</td>\n",
       "      <td>10.959000</td>\n",
       "      <td>0.099582</td>\n",
       "      <td>1.800000e+04</td>\n",
       "    </tr>\n",
       "    <tr>\n",
       "      <th>...</th>\n",
       "      <td>...</td>\n",
       "      <td>...</td>\n",
       "      <td>...</td>\n",
       "      <td>...</td>\n",
       "      <td>...</td>\n",
       "      <td>...</td>\n",
       "    </tr>\n",
       "    <tr>\n",
       "      <th>12671</th>\n",
       "      <td>15.17000</td>\n",
       "      <td>16.230000</td>\n",
       "      <td>15.020000</td>\n",
       "      <td>15.890000</td>\n",
       "      <td>15.890000</td>\n",
       "      <td>1.274470e+06</td>\n",
       "    </tr>\n",
       "    <tr>\n",
       "      <th>12672</th>\n",
       "      <td>15.22000</td>\n",
       "      <td>17.020000</td>\n",
       "      <td>15.080000</td>\n",
       "      <td>16.299999</td>\n",
       "      <td>16.299999</td>\n",
       "      <td>1.274470e+06</td>\n",
       "    </tr>\n",
       "    <tr>\n",
       "      <th>12673</th>\n",
       "      <td>16.40000</td>\n",
       "      <td>16.549999</td>\n",
       "      <td>15.520000</td>\n",
       "      <td>16.230000</td>\n",
       "      <td>16.230000</td>\n",
       "      <td>1.274470e+06</td>\n",
       "    </tr>\n",
       "    <tr>\n",
       "      <th>12674</th>\n",
       "      <td>16.07000</td>\n",
       "      <td>16.219999</td>\n",
       "      <td>15.340000</td>\n",
       "      <td>15.450000</td>\n",
       "      <td>15.450000</td>\n",
       "      <td>1.274470e+06</td>\n",
       "    </tr>\n",
       "    <tr>\n",
       "      <th>12675</th>\n",
       "      <td>14.45000</td>\n",
       "      <td>14.580000</td>\n",
       "      <td>13.650000</td>\n",
       "      <td>14.120000</td>\n",
       "      <td>14.120000</td>\n",
       "      <td>1.274470e+06</td>\n",
       "    </tr>\n",
       "  </tbody>\n",
       "</table>\n",
       "<p>12676 rows × 6 columns</p>\n",
       "</div>"
      ],
      "text/plain": [
       "           Open       High        Low      Close  Adj_Close        Volume\n",
       "0      11.09950  11.204875  10.994125  11.169750   0.101497  2.440000e+04\n",
       "1      11.16975  11.345375  11.169750  11.345375   0.103093  1.370000e+04\n",
       "2      11.31025  11.310250  11.029250  11.134625   0.101178  1.510000e+04\n",
       "3      11.09950  11.099500  10.713125  10.959000   0.099582  1.060000e+04\n",
       "4      10.95900  10.959000  10.853625  10.959000   0.099582  1.800000e+04\n",
       "...         ...        ...        ...        ...        ...           ...\n",
       "12671  15.17000  16.230000  15.020000  15.890000  15.890000  1.274470e+06\n",
       "12672  15.22000  17.020000  15.080000  16.299999  16.299999  1.274470e+06\n",
       "12673  16.40000  16.549999  15.520000  16.230000  16.230000  1.274470e+06\n",
       "12674  16.07000  16.219999  15.340000  15.450000  15.450000  1.274470e+06\n",
       "12675  14.45000  14.580000  13.650000  14.120000  14.120000  1.274470e+06\n",
       "\n",
       "[12676 rows x 6 columns]"
      ]
     },
     "execution_count": 86,
     "metadata": {},
     "output_type": "execute_result"
    }
   ],
   "source": [
    "data"
   ]
  },
  {
   "cell_type": "code",
   "execution_count": 87,
   "id": "41399ddb-2773-46f5-a4d1-9520d2e8147e",
   "metadata": {
    "tags": []
   },
   "outputs": [
    {
     "data": {
      "image/png": "[encoded data removed]",
      "text/plain": [
       "<Figure size 640x480 with 1 Axes>"
      ]
     },
     "metadata": {},
     "output_type": "display_data"
    }
   ],
   "source": [
    "import matplotlib.pyplot as plt\n",
    "\n",
    "# Sample data\n",
    "x = data1[\"Date\"].head(500)\n",
    "y = data1[\"Close\"].head(500)\n",
    "\n",
    "# Creating the scatter plot\n",
    "plt.scatter(x, y, color='blue', label='Data points')\n",
    "\n",
    "# Adding titles and labels\n",
    "plt.title('Basic Scatter Plot')\n",
    "plt.xlabel('X-axis Label')\n",
    "plt.ylabel('Y-axis Label')\n",
    "\n",
    "# Adding a legend\n",
    "plt.legend()\n",
    "\n",
    "# Displaying the plot\n",
    "plt.show()"
   ]
  },
  {
   "cell_type": "code",
   "execution_count": 88,
   "id": "71527309-f794-4370-bb4b-b5ac759ba952",
   "metadata": {
    "tags": []
   },
   "outputs": [
    {
     "data": {
      "text/html": [
       "<div>\n",
       "<style scoped>\n",
       "    .dataframe tbody tr th:only-of-type {\n",
       "        vertical-align: middle;\n",
       "    }\n",
       "\n",
       "    .dataframe tbody tr th {\n",
       "        vertical-align: top;\n",
       "    }\n",
       "\n",
       "    .dataframe thead th {\n",
       "        text-align: right;\n",
       "    }\n",
       "</style>\n",
       "<table border=\"1\" class=\"dataframe\">\n",
       "  <thead>\n",
       "    <tr style=\"text-align: right;\">\n",
       "      <th></th>\n",
       "      <th>Open</th>\n",
       "      <th>High</th>\n",
       "      <th>Low</th>\n",
       "      <th>Close</th>\n",
       "      <th>Adj_Close</th>\n",
       "      <th>Volume</th>\n",
       "    </tr>\n",
       "  </thead>\n",
       "  <tbody>\n",
       "    <tr>\n",
       "      <th>0</th>\n",
       "      <td>11.09950</td>\n",
       "      <td>11.204875</td>\n",
       "      <td>10.994125</td>\n",
       "      <td>11.169750</td>\n",
       "      <td>0.101497</td>\n",
       "      <td>24400.0</td>\n",
       "    </tr>\n",
       "    <tr>\n",
       "      <th>1</th>\n",
       "      <td>11.16975</td>\n",
       "      <td>11.345375</td>\n",
       "      <td>11.169750</td>\n",
       "      <td>11.345375</td>\n",
       "      <td>0.103093</td>\n",
       "      <td>13700.0</td>\n",
       "    </tr>\n",
       "    <tr>\n",
       "      <th>2</th>\n",
       "      <td>11.31025</td>\n",
       "      <td>11.310250</td>\n",
       "      <td>11.029250</td>\n",
       "      <td>11.134625</td>\n",
       "      <td>0.101178</td>\n",
       "      <td>15100.0</td>\n",
       "    </tr>\n",
       "    <tr>\n",
       "      <th>3</th>\n",
       "      <td>11.09950</td>\n",
       "      <td>11.099500</td>\n",
       "      <td>10.713125</td>\n",
       "      <td>10.959000</td>\n",
       "      <td>0.099582</td>\n",
       "      <td>10600.0</td>\n",
       "    </tr>\n",
       "    <tr>\n",
       "      <th>4</th>\n",
       "      <td>10.95900</td>\n",
       "      <td>10.959000</td>\n",
       "      <td>10.853625</td>\n",
       "      <td>10.959000</td>\n",
       "      <td>0.099582</td>\n",
       "      <td>18000.0</td>\n",
       "    </tr>\n",
       "  </tbody>\n",
       "</table>\n",
       "</div>"
      ],
      "text/plain": [
       "       Open       High        Low      Close  Adj_Close   Volume\n",
       "0  11.09950  11.204875  10.994125  11.169750   0.101497  24400.0\n",
       "1  11.16975  11.345375  11.169750  11.345375   0.103093  13700.0\n",
       "2  11.31025  11.310250  11.029250  11.134625   0.101178  15100.0\n",
       "3  11.09950  11.099500  10.713125  10.959000   0.099582  10600.0\n",
       "4  10.95900  10.959000  10.853625  10.959000   0.099582  18000.0"
      ]
     },
     "execution_count": 88,
     "metadata": {},
     "output_type": "execute_result"
    }
   ],
   "source": [
    "data.head()"
   ]
  },
  {
   "cell_type": "code",
   "execution_count": 89,
   "id": "df78e961-3d85-450f-bc79-040f707247a8",
   "metadata": {
    "tags": []
   },
   "outputs": [],
   "source": [
    "import seaborn as sns"
   ]
  },
  {
   "cell_type": "code",
   "execution_count": 90,
   "id": "db200d05-bd00-4906-acfb-ffbacaa844f9",
   "metadata": {
    "tags": []
   },
   "outputs": [
    {
     "data": {
      "text/plain": [
       "<seaborn.axisgrid.PairGrid at 0x2662524ceb0>"
      ]
     },
     "execution_count": 90,
     "metadata": {},
     "output_type": "execute_result"
    },
    {
     "data": {
      "image/png": "[encoded data removed]",
      "text/plain": [
       "<Figure size 2000x400 with 5 Axes>"
      ]
     },
     "metadata": {},
     "output_type": "display_data"
    }
   ],
   "source": [
    "sns.pairplot(data, x_vars=['Open','High','Low','Adj_Close','Volume'], y_vars=['Close'],height=4)"
   ]
  },
  {
   "cell_type": "code",
   "execution_count": 91,
   "id": "d10bf205-c801-4773-82b0-d7567c7526ea",
   "metadata": {
    "tags": []
   },
   "outputs": [],
   "source": [
    "plt.show()"
   ]
  },
  {
   "cell_type": "code",
   "execution_count": 92,
   "id": "3a07ad68",
   "metadata": {},
   "outputs": [
    {
     "data": {
      "text/plain": [
       "Open         float64\n",
       "High         float64\n",
       "Low          float64\n",
       "Close        float64\n",
       "Adj_Close    float64\n",
       "Volume       float64\n",
       "dtype: object"
      ]
     },
     "execution_count": 92,
     "metadata": {},
     "output_type": "execute_result"
    }
   ],
   "source": [
    "data.dtypes"
   ]
  },
  {
   "cell_type": "code",
   "execution_count": 93,
   "id": "71c87e47-c9d3-4160-9e46-a53bf662cf01",
   "metadata": {
    "tags": []
   },
   "outputs": [],
   "source": [
    "numerical_cols=X.select_dtypes(exclude='object').columns"
   ]
  },
  {
   "cell_type": "code",
   "execution_count": 94,
   "id": "eb07cf20-5099-48d7-abf5-b2b6ee0f773e",
   "metadata": {
    "tags": []
   },
   "outputs": [
    {
     "data": {
      "text/plain": [
       "Index(['Open', 'High', 'Low', 'Adj_Close', 'Volume'], dtype='object')"
      ]
     },
     "execution_count": 94,
     "metadata": {},
     "output_type": "execute_result"
    }
   ],
   "source": [
    "numerical_cols"
   ]
  },
  {
   "cell_type": "code",
   "execution_count": 95,
   "id": "e71b0d99-e99d-4c78-9f29-9268be5a6a63",
   "metadata": {
    "tags": []
   },
   "outputs": [],
   "source": [
    "from sklearn.impute import SimpleImputer ## HAndling Missing Values\n",
    "from sklearn.preprocessing import StandardScaler # HAndling Feature Scaling\n",
    "\n",
    "## pipelines\n",
    "from sklearn.pipeline import Pipeline\n",
    "from sklearn.compose import ColumnTransformer"
   ]
  },
  {
   "cell_type": "code",
   "execution_count": 96,
   "id": "fc2d5f3e-3c8c-4952-9915-366b8fd6905e",
   "metadata": {
    "tags": []
   },
   "outputs": [],
   "source": [
    "num_pipeline=Pipeline(\n",
    "    \n",
    "    \n",
    "    steps=[\n",
    "        \n",
    "        ('imputer',SimpleImputer()),\n",
    "        ('scaler', StandardScaler())\n",
    "    ]\n",
    "    \n",
    "    \n",
    ")"
   ]
  },
  {
   "cell_type": "code",
   "execution_count": 97,
   "id": "f33f881e-774d-4d06-8acc-9f49253a8fab",
   "metadata": {
    "tags": []
   },
   "outputs": [],
   "source": [
    "preprocessor=ColumnTransformer(\n",
    "    [\n",
    "        \n",
    "        ('num_pipeline',num_pipeline,numerical_cols)\n",
    "      \n",
    "    ]\n",
    ")"
   ]
  },
  {
   "cell_type": "code",
   "execution_count": 98,
   "id": "17d4ef2e-a460-470e-a117-a80c94a56bef",
   "metadata": {},
   "outputs": [],
   "source": [
    "from sklearn.model_selection import train_test_split"
   ]
  },
  {
   "cell_type": "code",
   "execution_count": 101,
   "id": "09fb2ccc-4dd5-483c-a19f-503bc19f790a",
   "metadata": {},
   "outputs": [],
   "source": [
    "X_train,X_test,y_train,y_test=train_test_split(X,y,test_size=0.25,random_state=42)"
   ]
  },
  {
   "cell_type": "code",
   "execution_count": 102,
   "id": "8b16fd0e-da9d-4f84-b221-517bfc5736e8",
   "metadata": {
    "tags": []
   },
   "outputs": [
    {
     "data": {
      "text/plain": [
       "array([[-0.91812469, -0.92017735, -0.9147784 , -0.80450021, -0.53349691],\n",
       "       [ 0.53073844,  0.51989768,  0.54349905, -0.20289008,  0.14356349],\n",
       "       [ 1.83826865,  1.81844616,  1.84999005,  2.46247281,  0.56811773],\n",
       "       ...,\n",
       "       [ 0.00914781,  0.01900201,  0.02458635, -0.63398586, -0.21649413],\n",
       "       [-0.53351735, -0.53928789, -0.52093708, -0.80456401, -0.54706072],\n",
       "       [ 1.71617211,  1.77213702,  1.63720707,  0.25326747, -0.20820513]])"
      ]
     },
     "execution_count": 102,
     "metadata": {},
     "output_type": "execute_result"
    }
   ],
   "source": [
    "preprocessor.fit_transform(X_train)"
   ]
  },
  {
   "cell_type": "code",
   "execution_count": 103,
   "id": "f6772adf-c842-48fe-9b8d-35feb6d69438",
   "metadata": {
    "tags": []
   },
   "outputs": [
    {
     "data": {
      "text/plain": [
       "array([[-1.17628573, -1.17062526, -1.1702431 , -0.80790757, -0.51243189],\n",
       "       [ 1.62377497,  1.60454044,  1.62725407,  2.38228345,  0.47457536],\n",
       "       [ 1.13928914,  1.16484564,  1.14844698,  1.83730177,  0.58921699],\n",
       "       ...,\n",
       "       [ 1.25780435,  1.25558831,  1.26997649,  0.17459344, -0.36905278],\n",
       "       [-1.01822791, -1.01409541, -1.00525547, -0.80518471, -0.52058388],\n",
       "       [ 0.55444732,  0.53555072,  0.55946535, -0.46078868, -0.23111975]])"
      ]
     },
     "execution_count": 103,
     "metadata": {},
     "output_type": "execute_result"
    }
   ],
   "source": [
    "preprocessor.transform(X_test)"
   ]
  },
  {
   "cell_type": "code",
   "execution_count": 104,
   "id": "1c9236fb-31ca-4f73-918d-0d7eb2276798",
   "metadata": {
    "tags": []
   },
   "outputs": [
    {
     "data": {
      "text/plain": [
       "array(['num_pipeline__Open', 'num_pipeline__High', 'num_pipeline__Low',\n",
       "       'num_pipeline__Adj_Close', 'num_pipeline__Volume'], dtype=object)"
      ]
     },
     "execution_count": 104,
     "metadata": {},
     "output_type": "execute_result"
    }
   ],
   "source": [
    "preprocessor.get_feature_names_out()"
   ]
  },
  {
   "cell_type": "code",
   "execution_count": 105,
   "id": "6ee26fc4-3e10-46c9-b098-96706f4ecccc",
   "metadata": {
    "tags": []
   },
   "outputs": [],
   "source": [
    "X_train=pd.DataFrame(preprocessor.fit_transform(X_train),columns=preprocessor.get_feature_names_out())\n",
    "X_test=pd.DataFrame(preprocessor.transform(X_test),columns=preprocessor.get_feature_names_out())"
   ]
  },
  {
   "cell_type": "code",
   "execution_count": 106,
   "id": "df017cba-35fe-481e-a453-2e9508c2e3a6",
   "metadata": {
    "tags": []
   },
   "outputs": [
    {
     "data": {
      "text/html": [
       "<div>\n",
       "<style scoped>\n",
       "    .dataframe tbody tr th:only-of-type {\n",
       "        vertical-align: middle;\n",
       "    }\n",
       "\n",
       "    .dataframe tbody tr th {\n",
       "        vertical-align: top;\n",
       "    }\n",
       "\n",
       "    .dataframe thead th {\n",
       "        text-align: right;\n",
       "    }\n",
       "</style>\n",
       "<table border=\"1\" class=\"dataframe\">\n",
       "  <thead>\n",
       "    <tr style=\"text-align: right;\">\n",
       "      <th></th>\n",
       "      <th>num_pipeline__Open</th>\n",
       "      <th>num_pipeline__High</th>\n",
       "      <th>num_pipeline__Low</th>\n",
       "      <th>num_pipeline__Adj_Close</th>\n",
       "      <th>num_pipeline__Volume</th>\n",
       "    </tr>\n",
       "  </thead>\n",
       "  <tbody>\n",
       "    <tr>\n",
       "      <th>0</th>\n",
       "      <td>-0.918125</td>\n",
       "      <td>-0.920177</td>\n",
       "      <td>-0.914778</td>\n",
       "      <td>-0.804500</td>\n",
       "      <td>-0.533497</td>\n",
       "    </tr>\n",
       "    <tr>\n",
       "      <th>1</th>\n",
       "      <td>0.530738</td>\n",
       "      <td>0.519898</td>\n",
       "      <td>0.543499</td>\n",
       "      <td>-0.202890</td>\n",
       "      <td>0.143563</td>\n",
       "    </tr>\n",
       "    <tr>\n",
       "      <th>2</th>\n",
       "      <td>1.838269</td>\n",
       "      <td>1.818446</td>\n",
       "      <td>1.849990</td>\n",
       "      <td>2.462473</td>\n",
       "      <td>0.568118</td>\n",
       "    </tr>\n",
       "    <tr>\n",
       "      <th>3</th>\n",
       "      <td>-1.272639</td>\n",
       "      <td>-1.251991</td>\n",
       "      <td>-1.300135</td>\n",
       "      <td>-0.386615</td>\n",
       "      <td>0.024092</td>\n",
       "    </tr>\n",
       "    <tr>\n",
       "      <th>4</th>\n",
       "      <td>0.380584</td>\n",
       "      <td>0.410327</td>\n",
       "      <td>0.375850</td>\n",
       "      <td>-0.302279</td>\n",
       "      <td>-0.439064</td>\n",
       "    </tr>\n",
       "    <tr>\n",
       "      <th>...</th>\n",
       "      <td>...</td>\n",
       "      <td>...</td>\n",
       "      <td>...</td>\n",
       "      <td>...</td>\n",
       "      <td>...</td>\n",
       "    </tr>\n",
       "    <tr>\n",
       "      <th>9502</th>\n",
       "      <td>1.992764</td>\n",
       "      <td>1.968477</td>\n",
       "      <td>1.990905</td>\n",
       "      <td>2.572056</td>\n",
       "      <td>0.193811</td>\n",
       "    </tr>\n",
       "    <tr>\n",
       "      <th>9503</th>\n",
       "      <td>-0.243745</td>\n",
       "      <td>-0.254925</td>\n",
       "      <td>-0.238862</td>\n",
       "      <td>-0.679445</td>\n",
       "      <td>-0.458074</td>\n",
       "    </tr>\n",
       "    <tr>\n",
       "      <th>9504</th>\n",
       "      <td>0.009148</td>\n",
       "      <td>0.019002</td>\n",
       "      <td>0.024586</td>\n",
       "      <td>-0.633986</td>\n",
       "      <td>-0.216494</td>\n",
       "    </tr>\n",
       "    <tr>\n",
       "      <th>9505</th>\n",
       "      <td>-0.533517</td>\n",
       "      <td>-0.539288</td>\n",
       "      <td>-0.520937</td>\n",
       "      <td>-0.804564</td>\n",
       "      <td>-0.547061</td>\n",
       "    </tr>\n",
       "    <tr>\n",
       "      <th>9506</th>\n",
       "      <td>1.716172</td>\n",
       "      <td>1.772137</td>\n",
       "      <td>1.637207</td>\n",
       "      <td>0.253267</td>\n",
       "      <td>-0.208205</td>\n",
       "    </tr>\n",
       "  </tbody>\n",
       "</table>\n",
       "<p>9507 rows × 5 columns</p>\n",
       "</div>"
      ],
      "text/plain": [
       "      num_pipeline__Open  num_pipeline__High  num_pipeline__Low  \\\n",
       "0              -0.918125           -0.920177          -0.914778   \n",
       "1               0.530738            0.519898           0.543499   \n",
       "2               1.838269            1.818446           1.849990   \n",
       "3              -1.272639           -1.251991          -1.300135   \n",
       "4               0.380584            0.410327           0.375850   \n",
       "...                  ...                 ...                ...   \n",
       "9502            1.992764            1.968477           1.990905   \n",
       "9503           -0.243745           -0.254925          -0.238862   \n",
       "9504            0.009148            0.019002           0.024586   \n",
       "9505           -0.533517           -0.539288          -0.520937   \n",
       "9506            1.716172            1.772137           1.637207   \n",
       "\n",
       "      num_pipeline__Adj_Close  num_pipeline__Volume  \n",
       "0                   -0.804500             -0.533497  \n",
       "1                   -0.202890              0.143563  \n",
       "2                    2.462473              0.568118  \n",
       "3                   -0.386615              0.024092  \n",
       "4                   -0.302279             -0.439064  \n",
       "...                       ...                   ...  \n",
       "9502                 2.572056              0.193811  \n",
       "9503                -0.679445             -0.458074  \n",
       "9504                -0.633986             -0.216494  \n",
       "9505                -0.804564             -0.547061  \n",
       "9506                 0.253267             -0.208205  \n",
       "\n",
       "[9507 rows x 5 columns]"
      ]
     },
     "execution_count": 106,
     "metadata": {},
     "output_type": "execute_result"
    }
   ],
   "source": [
    "X_train"
   ]
  },
  {
   "cell_type": "code",
   "execution_count": 107,
   "id": "dc3ec5d6-6b34-44ad-80dd-37176816f4c5",
   "metadata": {
    "tags": []
   },
   "outputs": [
    {
     "data": {
      "text/html": [
       "<div>\n",
       "<style scoped>\n",
       "    .dataframe tbody tr th:only-of-type {\n",
       "        vertical-align: middle;\n",
       "    }\n",
       "\n",
       "    .dataframe tbody tr th {\n",
       "        vertical-align: top;\n",
       "    }\n",
       "\n",
       "    .dataframe thead th {\n",
       "        text-align: right;\n",
       "    }\n",
       "</style>\n",
       "<table border=\"1\" class=\"dataframe\">\n",
       "  <thead>\n",
       "    <tr style=\"text-align: right;\">\n",
       "      <th></th>\n",
       "      <th>num_pipeline__Open</th>\n",
       "      <th>num_pipeline__High</th>\n",
       "      <th>num_pipeline__Low</th>\n",
       "      <th>num_pipeline__Adj_Close</th>\n",
       "      <th>num_pipeline__Volume</th>\n",
       "    </tr>\n",
       "  </thead>\n",
       "  <tbody>\n",
       "    <tr>\n",
       "      <th>0</th>\n",
       "      <td>-1.176286</td>\n",
       "      <td>-1.170625</td>\n",
       "      <td>-1.170243</td>\n",
       "      <td>-0.807908</td>\n",
       "      <td>-0.512432</td>\n",
       "    </tr>\n",
       "    <tr>\n",
       "      <th>1</th>\n",
       "      <td>1.623775</td>\n",
       "      <td>1.604540</td>\n",
       "      <td>1.627254</td>\n",
       "      <td>2.382283</td>\n",
       "      <td>0.474575</td>\n",
       "    </tr>\n",
       "    <tr>\n",
       "      <th>2</th>\n",
       "      <td>1.139289</td>\n",
       "      <td>1.164846</td>\n",
       "      <td>1.148447</td>\n",
       "      <td>1.837302</td>\n",
       "      <td>0.589217</td>\n",
       "    </tr>\n",
       "    <tr>\n",
       "      <th>3</th>\n",
       "      <td>-1.286926</td>\n",
       "      <td>-1.280196</td>\n",
       "      <td>-1.282009</td>\n",
       "      <td>-0.810487</td>\n",
       "      <td>-0.452731</td>\n",
       "    </tr>\n",
       "    <tr>\n",
       "      <th>4</th>\n",
       "      <td>-0.093590</td>\n",
       "      <td>-0.098395</td>\n",
       "      <td>-0.071213</td>\n",
       "      <td>-0.690329</td>\n",
       "      <td>-0.447010</td>\n",
       "    </tr>\n",
       "    <tr>\n",
       "      <th>...</th>\n",
       "      <td>...</td>\n",
       "      <td>...</td>\n",
       "      <td>...</td>\n",
       "      <td>...</td>\n",
       "      <td>...</td>\n",
       "    </tr>\n",
       "    <tr>\n",
       "      <th>3164</th>\n",
       "      <td>0.925883</td>\n",
       "      <td>0.926875</td>\n",
       "      <td>0.926696</td>\n",
       "      <td>0.001023</td>\n",
       "      <td>-0.335178</td>\n",
       "    </tr>\n",
       "    <tr>\n",
       "      <th>3165</th>\n",
       "      <td>-0.945649</td>\n",
       "      <td>-0.928162</td>\n",
       "      <td>-0.951636</td>\n",
       "      <td>-0.064194</td>\n",
       "      <td>0.578085</td>\n",
       "    </tr>\n",
       "    <tr>\n",
       "      <th>3166</th>\n",
       "      <td>1.257804</td>\n",
       "      <td>1.255588</td>\n",
       "      <td>1.269976</td>\n",
       "      <td>0.174593</td>\n",
       "      <td>-0.369053</td>\n",
       "    </tr>\n",
       "    <tr>\n",
       "      <th>3167</th>\n",
       "      <td>-1.018228</td>\n",
       "      <td>-1.014095</td>\n",
       "      <td>-1.005255</td>\n",
       "      <td>-0.805185</td>\n",
       "      <td>-0.520584</td>\n",
       "    </tr>\n",
       "    <tr>\n",
       "      <th>3168</th>\n",
       "      <td>0.554447</td>\n",
       "      <td>0.535551</td>\n",
       "      <td>0.559465</td>\n",
       "      <td>-0.460789</td>\n",
       "      <td>-0.231120</td>\n",
       "    </tr>\n",
       "  </tbody>\n",
       "</table>\n",
       "<p>3169 rows × 5 columns</p>\n",
       "</div>"
      ],
      "text/plain": [
       "      num_pipeline__Open  num_pipeline__High  num_pipeline__Low  \\\n",
       "0              -1.176286           -1.170625          -1.170243   \n",
       "1               1.623775            1.604540           1.627254   \n",
       "2               1.139289            1.164846           1.148447   \n",
       "3              -1.286926           -1.280196          -1.282009   \n",
       "4              -0.093590           -0.098395          -0.071213   \n",
       "...                  ...                 ...                ...   \n",
       "3164            0.925883            0.926875           0.926696   \n",
       "3165           -0.945649           -0.928162          -0.951636   \n",
       "3166            1.257804            1.255588           1.269976   \n",
       "3167           -1.018228           -1.014095          -1.005255   \n",
       "3168            0.554447            0.535551           0.559465   \n",
       "\n",
       "      num_pipeline__Adj_Close  num_pipeline__Volume  \n",
       "0                   -0.807908             -0.512432  \n",
       "1                    2.382283              0.474575  \n",
       "2                    1.837302              0.589217  \n",
       "3                   -0.810487             -0.452731  \n",
       "4                   -0.690329             -0.447010  \n",
       "...                       ...                   ...  \n",
       "3164                 0.001023             -0.335178  \n",
       "3165                -0.064194              0.578085  \n",
       "3166                 0.174593             -0.369053  \n",
       "3167                -0.805185             -0.520584  \n",
       "3168                -0.460789             -0.231120  \n",
       "\n",
       "[3169 rows x 5 columns]"
      ]
     },
     "execution_count": 107,
     "metadata": {},
     "output_type": "execute_result"
    }
   ],
   "source": [
    "X_test"
   ]
  },
  {
   "cell_type": "code",
   "execution_count": 108,
   "id": "915f369b-7dc7-4eeb-a7fe-de29c3776089",
   "metadata": {
    "tags": []
   },
   "outputs": [],
   "source": [
    "from sklearn.svm import SVR"
   ]
  },
  {
   "cell_type": "code",
   "execution_count": 109,
   "id": "01a05f6e-8aa5-4cbe-99ee-8910ae1603a5",
   "metadata": {
    "tags": []
   },
   "outputs": [],
   "source": [
    "model=SVR()"
   ]
  },
  {
   "cell_type": "code",
   "execution_count": 110,
   "id": "f4d65431-a232-42d6-8b70-595b2a70b866",
   "metadata": {
    "tags": []
   },
   "outputs": [
    {
     "data": {
      "text/html": [
       "<style>#sk-container-id-1 {color: black;}#sk-container-id-1 pre{padding: 0;}#sk-container-id-1 div.sk-toggleable {background-color: white;}#sk-container-id-1 label.sk-toggleable__label {cursor: pointer;display: block;width: 100%;margin-bottom: 0;padding: 0.3em;box-sizing: border-box;text-align: center;}#sk-container-id-1 label.sk-toggleable__label-arrow:before {content: \"▸\";float: left;margin-right: 0.25em;color: #696969;}#sk-container-id-1 label.sk-toggleable__label-arrow:hover:before {color: black;}#sk-container-id-1 div.sk-estimator:hover label.sk-toggleable__label-arrow:before {color: black;}#sk-container-id-1 div.sk-toggleable__content {max-height: 0;max-width: 0;overflow: hidden;text-align: left;background-color: #f0f8ff;}#sk-container-id-1 div.sk-toggleable__content pre {margin: 0.2em;color: black;border-radius: 0.25em;background-color: #f0f8ff;}#sk-container-id-1 input.sk-toggleable__control:checked~div.sk-toggleable__content {max-height: 200px;max-width: 100%;overflow: auto;}#sk-container-id-1 input.sk-toggleable__control:checked~label.sk-toggleable__label-arrow:before {content: \"▾\";}#sk-container-id-1 div.sk-estimator input.sk-toggleable__control:checked~label.sk-toggleable__label {background-color: #d4ebff;}#sk-container-id-1 div.sk-label input.sk-toggleable__control:checked~label.sk-toggleable__label {background-color: #d4ebff;}#sk-container-id-1 input.sk-hidden--visually {border: 0;clip: rect(1px 1px 1px 1px);clip: rect(1px, 1px, 1px, 1px);height: 1px;margin: -1px;overflow: hidden;padding: 0;position: absolute;width: 1px;}#sk-container-id-1 div.sk-estimator {font-family: monospace;background-color: #f0f8ff;border: 1px dotted black;border-radius: 0.25em;box-sizing: border-box;margin-bottom: 0.5em;}#sk-container-id-1 div.sk-estimator:hover {background-color: #d4ebff;}#sk-container-id-1 div.sk-parallel-item::after {content: \"\";width: 100%;border-bottom: 1px solid gray;flex-grow: 1;}#sk-container-id-1 div.sk-label:hover label.sk-toggleable__label {background-color: #d4ebff;}#sk-container-id-1 div.sk-serial::before {content: \"\";position: absolute;border-left: 1px solid gray;box-sizing: border-box;top: 0;bottom: 0;left: 50%;z-index: 0;}#sk-container-id-1 div.sk-serial {display: flex;flex-direction: column;align-items: center;background-color: white;padding-right: 0.2em;padding-left: 0.2em;position: relative;}#sk-container-id-1 div.sk-item {position: relative;z-index: 1;}#sk-container-id-1 div.sk-parallel {display: flex;align-items: stretch;justify-content: center;background-color: white;position: relative;}#sk-container-id-1 div.sk-item::before, #sk-container-id-1 div.sk-parallel-item::before {content: \"\";position: absolute;border-left: 1px solid gray;box-sizing: border-box;top: 0;bottom: 0;left: 50%;z-index: -1;}#sk-container-id-1 div.sk-parallel-item {display: flex;flex-direction: column;z-index: 1;position: relative;background-color: white;}#sk-container-id-1 div.sk-parallel-item:first-child::after {align-self: flex-end;width: 50%;}#sk-container-id-1 div.sk-parallel-item:last-child::after {align-self: flex-start;width: 50%;}#sk-container-id-1 div.sk-parallel-item:only-child::after {width: 0;}#sk-container-id-1 div.sk-dashed-wrapped {border: 1px dashed gray;margin: 0 0.4em 0.5em 0.4em;box-sizing: border-box;padding-bottom: 0.4em;background-color: white;}#sk-container-id-1 div.sk-label label {font-family: monospace;font-weight: bold;display: inline-block;line-height: 1.2em;}#sk-container-id-1 div.sk-label-container {text-align: center;}#sk-container-id-1 div.sk-container {/* jupyter's `normalize.less` sets `[hidden] { display: none; }` but bootstrap.min.css set `[hidden] { display: none !important; }` so we also need the `!important` here to be able to override the default hidden behavior on the sphinx rendered scikit-learn.org. See: https://github.com/scikit-learn/scikit-learn/issues/21755 */display: inline-block !important;position: relative;}#sk-container-id-1 div.sk-text-repr-fallback {display: none;}</style><div id=\"sk-container-id-1\" class=\"sk-top-container\"><div class=\"sk-text-repr-fallback\"><pre>SVR()</pre><b>In a Jupyter environment, please rerun this cell to show the HTML representation or trust the notebook. <br />On GitHub, the HTML representation is unable to render, please try loading this page with nbviewer.org.</b></div><div class=\"sk-container\" hidden><div class=\"sk-item\"><div class=\"sk-estimator sk-toggleable\"><input class=\"sk-toggleable__control sk-hidden--visually\" id=\"sk-estimator-id-1\" type=\"checkbox\" checked><label for=\"sk-estimator-id-1\" class=\"sk-toggleable__label sk-toggleable__label-arrow\">SVR</label><div class=\"sk-toggleable__content\"><pre>SVR()</pre></div></div></div></div></div>"
      ],
      "text/plain": [
       "SVR()"
      ]
     },
     "execution_count": 110,
     "metadata": {},
     "output_type": "execute_result"
    }
   ],
   "source": [
    "model.fit(X_train,y_train)"
   ]
  },
  {
   "cell_type": "code",
   "execution_count": 111,
   "id": "ed77c547-c148-4831-a47c-0dfce032a36e",
   "metadata": {
    "tags": []
   },
   "outputs": [],
   "source": [
    "y_pred=model.predict(X_test)"
   ]
  },
  {
   "cell_type": "code",
   "execution_count": 112,
   "id": "fe76d3fe-c607-44ba-8277-5a53676e1770",
   "metadata": {
    "tags": []
   },
   "outputs": [],
   "source": [
    "from sklearn.metrics import r2_score"
   ]
  },
  {
   "cell_type": "code",
   "execution_count": 113,
   "id": "f4bbe855-271d-4539-b380-a26f42589302",
   "metadata": {
    "tags": []
   },
   "outputs": [
    {
     "data": {
      "text/plain": [
       "0.997502582596684"
      ]
     },
     "execution_count": 113,
     "metadata": {},
     "output_type": "execute_result"
    }
   ],
   "source": [
    "r2_score(y_test,y_pred)"
   ]
  },
  {
   "cell_type": "code",
   "execution_count": 114,
   "id": "8e7a05ec-34e9-4ff8-a71a-4e809cfa76db",
   "metadata": {},
   "outputs": [
    {
     "data": {
      "text/plain": [
       "0.9988699186627996"
      ]
     },
     "execution_count": 114,
     "metadata": {},
     "output_type": "execute_result"
    }
   ],
   "source": [
    "model.score(X_train,y_train)"
   ]
  },
  {
   "cell_type": "code",
   "execution_count": 115,
   "id": "c805b762-491e-4c36-be16-980bee18550c",
   "metadata": {
    "tags": []
   },
   "outputs": [
    {
     "data": {
      "text/html": [
       "<div>\n",
       "<style scoped>\n",
       "    .dataframe tbody tr th:only-of-type {\n",
       "        vertical-align: middle;\n",
       "    }\n",
       "\n",
       "    .dataframe tbody tr th {\n",
       "        vertical-align: top;\n",
       "    }\n",
       "\n",
       "    .dataframe thead th {\n",
       "        text-align: right;\n",
       "    }\n",
       "</style>\n",
       "<table border=\"1\" class=\"dataframe\">\n",
       "  <thead>\n",
       "    <tr style=\"text-align: right;\">\n",
       "      <th></th>\n",
       "      <th>num_pipeline__Open</th>\n",
       "      <th>num_pipeline__High</th>\n",
       "      <th>num_pipeline__Low</th>\n",
       "      <th>num_pipeline__Adj_Close</th>\n",
       "      <th>num_pipeline__Volume</th>\n",
       "    </tr>\n",
       "  </thead>\n",
       "  <tbody>\n",
       "    <tr>\n",
       "      <th>0</th>\n",
       "      <td>-1.176286</td>\n",
       "      <td>-1.170625</td>\n",
       "      <td>-1.170243</td>\n",
       "      <td>-0.807908</td>\n",
       "      <td>-0.512432</td>\n",
       "    </tr>\n",
       "  </tbody>\n",
       "</table>\n",
       "</div>"
      ],
      "text/plain": [
       "   num_pipeline__Open  num_pipeline__High  num_pipeline__Low  \\\n",
       "0           -1.176286           -1.170625          -1.170243   \n",
       "\n",
       "   num_pipeline__Adj_Close  num_pipeline__Volume  \n",
       "0                -0.807908             -0.512432  "
      ]
     },
     "execution_count": 115,
     "metadata": {},
     "output_type": "execute_result"
    }
   ],
   "source": [
    "X_test.head(1)"
   ]
  },
  {
   "cell_type": "code",
   "execution_count": 116,
   "id": "3943304c-6bdc-4a1e-b8df-8efc2202a007",
   "metadata": {},
   "outputs": [],
   "source": [
    "Y_data=X_test.head(1)"
   ]
  },
  {
   "cell_type": "code",
   "execution_count": 117,
   "id": "9df0d457-e498-4cff-a8eb-2e58800a56d7",
   "metadata": {},
   "outputs": [],
   "source": [
    "y_test=model.predict(Y_data)"
   ]
  },
  {
   "cell_type": "code",
   "execution_count": 118,
   "id": "558abbe2-5665-4e35-a157-8ff137159932",
   "metadata": {},
   "outputs": [
    {
     "data": {
      "text/plain": [
       "array([7.70440578])"
      ]
     },
     "execution_count": 118,
     "metadata": {},
     "output_type": "execute_result"
    }
   ],
   "source": [
    "y_test"
   ]
  },
  {
   "cell_type": "code",
   "execution_count": null,
   "id": "b2f0787d-74f9-4052-98ea-1c7f8ba82890",
   "metadata": {},
   "outputs": [],
   "source": []
  }
 ],
 "metadata": {
  "kernelspec": {
   "display_name": "Python 3 (ipykernel)",
   "language": "python",
   "name": "python3"
  },
  "language_info": {
   "codemirror_mode": {
    "name": "ipython",
    "version": 3
   },
   "file_extension": ".py",
   "mimetype": "text/x-python",
   "name": "python",
   "nbconvert_exporter": "python",
   "pygments_lexer": "ipython3",
   "version": "3.8.19"
  }
 },
 "nbformat": 4,
 "nbformat_minor": 5
}
